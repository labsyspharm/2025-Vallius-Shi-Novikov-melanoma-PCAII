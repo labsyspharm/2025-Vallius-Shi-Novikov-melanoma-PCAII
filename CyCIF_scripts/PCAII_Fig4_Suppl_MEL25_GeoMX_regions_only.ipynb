{
 "cells": [
  {
   "cell_type": "code",
   "execution_count": 1,
   "id": "c08ef935-8229-472b-bda5-31da67979238",
   "metadata": {},
   "outputs": [
    {
     "name": "stdout",
     "output_type": "stream",
     "text": [
      "Running SCIMAP  2.1.0\n"
     ]
    }
   ],
   "source": [
    "import sys\n",
    "import os\n",
    "import anndata as ad\n",
    "import pandas as pd\n",
    "import scanpy as sc\n",
    "import re\n",
    "import numpy as np\n",
    "import seaborn as sns; sns.set(color_codes=True)\n",
    "import scimap as sm  \n",
    "from matplotlib import pyplot as plt\n",
    "from matplotlib.patches import Patch\n",
    "from scipy.stats import pearsonr\n",
    "\n",
    "#set current directory\n",
    "os.chdir(\"C:/Users/tav9/Dropbox (HMS)/PCA_phaseII/cycif_analysis_materials/data_e41\")\n",
    "#os.chdir(\"/Users/roxannepelletier/Dropbox (HMS)/PCA_phaseII/cycif_analysis_materials/\")\n",
    "import napari"
   ]
  },
  {
   "cell_type": "code",
   "execution_count": 34,
   "id": "77fec251-da90-4875-a714-a6a3cc50a817",
   "metadata": {},
   "outputs": [],
   "source": [
    "LSP11402 = \"Y:/cycif-production/16-Pre-Cancer-Atlas-for-Melanoma/PCA_p16_e41_tumor_intrinsic/quantified/LSP11402/quantification/LSP11402--unmicst_cellRing.csv\"\n",
    "LSP11410 = \"Y:/cycif-production/16-Pre-Cancer-Atlas-for-Melanoma/PCA_p16_e41_tumor_intrinsic/quantified/LSP11410/quantification/LSP11410--unmicst_cellRing.csv\"\n"
   ]
  },
  {
   "cell_type": "code",
   "execution_count": 35,
   "id": "b76e6dcf-6acd-4cce-b0a8-6c84c8a36a46",
   "metadata": {},
   "outputs": [
    {
     "name": "stdout",
     "output_type": "stream",
     "text": [
      "Loading LSP11402--unmicst_cellRing.csv\n",
      "Loading LSP11410--unmicst_cellRing.csv\n"
     ]
    }
   ],
   "source": [
    "feature_table_path = [LSP11402, LSP11410]\n",
    "adata = sm.pp.mcmicro_to_scimap (feature_table_path, remove_dna=False, log = True, \n",
    "                                 drop_markers= ['DNA2','DNA3','DNA4','DNA5','DNA6','DNA7','DNA8','DNA9','DNA10','DNA11',\n",
    "                                                'GATA3','CD63','SOX2','MCL1','PDL1','SOX6'])"
   ]
  },
  {
   "cell_type": "code",
   "execution_count": 36,
   "id": "7d1e147a-de4a-4a2c-a9db-4495cdd0fa8c",
   "metadata": {},
   "outputs": [
    {
     "data": {
      "text/plain": [
       "AnnData object with n_obs × n_vars = 132019 × 42\n",
       "    obs: 'X_centroid', 'Y_centroid', 'Area', 'MajorAxisLength', 'MinorAxisLength', 'Eccentricity', 'Solidity', 'Extent', 'Orientation', 'CellID', 'imageid'\n",
       "    uns: 'all_markers'\n",
       "    layers: 'log'"
      ]
     },
     "execution_count": 36,
     "metadata": {},
     "output_type": "execute_result"
    }
   ],
   "source": [
    "adata"
   ]
  },
  {
   "cell_type": "code",
   "execution_count": 42,
   "id": "9862689c-5da2-43aa-bfc7-b31697b2a4ac",
   "metadata": {},
   "outputs": [
    {
     "data": {
      "text/plain": [
       "array([[0.66140771, 0.26213653, 0.21969435, ..., 0.64501967, 0.44983013,\n",
       "        0.08861876],\n",
       "       [0.54093104, 0.37624049, 0.15133407, ..., 0.08455122, 0.29514819,\n",
       "        0.11999393],\n",
       "       [0.56248895, 0.38948004, 0.15916684, ..., 0.09972205, 0.29456146,\n",
       "        0.12293024],\n",
       "       ...,\n",
       "       [0.68247368, 0.63646041, 0.61495086, ..., 0.28782735, 0.51052804,\n",
       "        0.52789588],\n",
       "       [0.7322702 , 0.51724766, 0.59385019, ..., 0.33651546, 0.40497869,\n",
       "        0.47421743],\n",
       "       [0.69705958, 0.5452132 , 0.57233472, ..., 0.29583647, 0.45420795,\n",
       "        0.50470297]])"
      ]
     },
     "execution_count": 42,
     "metadata": {},
     "output_type": "execute_result"
    }
   ],
   "source": [
    "adata.X"
   ]
  },
  {
   "cell_type": "code",
   "execution_count": 39,
   "id": "8f7f267c-111b-4a2c-8856-f48dc2270257",
   "metadata": {
    "scrolled": true
   },
   "outputs": [
    {
     "name": "stderr",
     "output_type": "stream",
     "text": [
      "C:\\Users\\tav9\\AppData\\Local\\anaconda3\\envs\\scimap_new\\lib\\site-packages\\scimap\\preprocessing\\rescale.py:100: FutureWarning:\n",
      "\n",
      "Downcasting object dtype arrays on .fillna, .ffill, .bfill is deprecated and will change in a future version. Call result.infer_objects(copy=False) instead. To opt-in to the future behavior, set `pd.set_option('future.no_silent_downcasting', True)`\n",
      "\n"
     ]
    },
    {
     "name": "stdout",
     "output_type": "stream",
     "text": [
      "Scaling Image LSP11402--unmicst_cellRing\n",
      "Scaling DNA1\n",
      "Scaling 5hmC\n",
      "Scaling Tet2\n",
      "Scaling SOX10\n",
      "Scaling LaminA/C/B1\n",
      "Scaling PMEL\n",
      "Scaling SOX9\n",
      "Scaling S100B\n",
      "Scaling MART1\n",
      "Scaling aSMA\n",
      "Scaling MITF\n",
      "Scaling p21\n",
      "Scaling panCK\n",
      "Scaling ECAD\n",
      "Scaling pSTAT1\n",
      "Scaling MCM2\n",
      "Scaling S100A1\n",
      "Scaling Ki67\n",
      "Scaling pSTAT3\n",
      "Scaling PD1\n",
      "Scaling pH3\n",
      "Scaling PRAME\n",
      "Scaling IRF5\n",
      "Scaling IRF1\n",
      "Scaling B2M\n",
      "Scaling MX1\n",
      "Scaling CD11c\n",
      "Scaling NGFR\n",
      "Scaling CK14\n",
      "Scaling LDH\n",
      "Scaling pERK\n",
      "Scaling BCL2\n",
      "Scaling VIM\n",
      "Scaling CD3e\n",
      "Scaling pS6\n",
      "Scaling CCND1\n",
      "Scaling CCNA2\n",
      "Scaling PCNA\n",
      "Scaling DNA12\n",
      "Scaling p16/CDKN2A\n",
      "Scaling HIF1a\n",
      "Scaling H3k27me3\n",
      "Scaling Image LSP11410--unmicst_cellRing\n",
      "Scaling DNA1\n",
      "Scaling 5hmC\n",
      "Scaling Tet2\n",
      "Scaling SOX10\n",
      "Scaling LaminA/C/B1\n",
      "Scaling PMEL\n",
      "Scaling SOX9\n",
      "Scaling S100B\n",
      "Scaling MART1\n",
      "Scaling aSMA\n",
      "Scaling MITF\n",
      "Scaling p21\n",
      "Scaling panCK\n",
      "Scaling ECAD\n",
      "Scaling pSTAT1\n",
      "Scaling MCM2\n",
      "Scaling S100A1\n",
      "Scaling Ki67\n",
      "Scaling pSTAT3\n",
      "Scaling PD1\n",
      "Scaling pH3\n",
      "Scaling PRAME\n",
      "Scaling IRF5\n",
      "Scaling IRF1\n",
      "Scaling B2M\n",
      "Scaling MX1\n",
      "Scaling CD11c\n",
      "Scaling NGFR\n",
      "Scaling CK14\n",
      "Scaling LDH\n",
      "Scaling pERK\n",
      "Scaling BCL2\n",
      "Scaling VIM\n",
      "Scaling CD3e\n",
      "Scaling pS6\n",
      "Scaling CCND1\n",
      "Scaling CCNA2\n",
      "Scaling PCNA\n",
      "Scaling DNA12\n",
      "Scaling p16/CDKN2A\n",
      "Scaling HIF1a\n",
      "Scaling H3k27me3\n"
     ]
    },
    {
     "data": {
      "text/plain": [
       "AnnData object with n_obs × n_vars = 132019 × 42\n",
       "    obs: 'X_centroid', 'Y_centroid', 'Area', 'MajorAxisLength', 'MinorAxisLength', 'Eccentricity', 'Solidity', 'Extent', 'Orientation', 'CellID', 'imageid'\n",
       "    uns: 'all_markers', 'gates'\n",
       "    layers: 'log'"
      ]
     },
     "execution_count": 39,
     "metadata": {},
     "output_type": "execute_result"
    }
   ],
   "source": [
    "gate = pd.read_csv(\"C:/Users/tav9/Dropbox (HMS)/PCA_phaseII/gating_materials/gating_e41/all_gates.csv\")\n",
    "sm.pp.rescale(adata, gate=gate, log=True, imageid='imageid', failed_markers=None, method='all', random_state=0)"
   ]
  },
  {
   "cell_type": "code",
   "execution_count": 41,
   "id": "8c12ad5d-65fc-484b-bcd0-025a0c959347",
   "metadata": {},
   "outputs": [
    {
     "name": "stdout",
     "output_type": "stream",
     "text": [
      "Phenotyping Melanocytes\n",
      "-- Subsetting all-rest\n",
      "Phenotyping Keratinocytes\n",
      "Phenotyping Myofibroblasts\n",
      "Phenotyping T cells\n",
      "Phenotyping Myeloid lineage\n",
      "-- Subsetting Keratinocytes\n",
      "Phenotyping T cells\n",
      "Consolidating the phenotypes across all groups\n"
     ]
    },
    {
     "name": "stderr",
     "output_type": "stream",
     "text": [
      "C:\\Users\\tav9\\AppData\\Local\\anaconda3\\envs\\scimap_new\\lib\\site-packages\\scimap\\tools\\phenotype_cells.py:290: FutureWarning:\n",
      "\n",
      "DataFrame.fillna with 'method' is deprecated and will raise in a future version. Use obj.ffill() or obj.bfill() instead.\n",
      "\n",
      "C:\\Users\\tav9\\AppData\\Local\\anaconda3\\envs\\scimap_new\\lib\\site-packages\\scimap\\tools\\phenotype_cells.py:290: FutureWarning:\n",
      "\n",
      "Downcasting object dtype arrays on .fillna, .ffill, .bfill is deprecated and will change in a future version. Call result.infer_objects(copy=False) instead. To opt-in to the future behavior, set `pd.set_option('future.no_silent_downcasting', True)`\n",
      "\n"
     ]
    },
    {
     "data": {
      "text/plain": [
       "AnnData object with n_obs × n_vars = 132019 × 42\n",
       "    obs: 'X_centroid', 'Y_centroid', 'Area', 'MajorAxisLength', 'MinorAxisLength', 'Eccentricity', 'Solidity', 'Extent', 'Orientation', 'CellID', 'imageid', 'phenotype'\n",
       "    uns: 'all_markers', 'gates'\n",
       "    layers: 'log'"
      ]
     },
     "execution_count": 41,
     "metadata": {},
     "output_type": "execute_result"
    }
   ],
   "source": [
    "#add the phenotyping wf\n",
    "phenotype = pd.read_csv(\"C:/Users/tav9/Dropbox (HMS)/PCA_phaseII/cycif_analysis_materials/adata_initialization_e41/phenotyping_e41.csv\")\n",
    "sm.tl.phenotype_cells(adata, phenotype, gate=0.5, label='phenotype', \n",
    "                      imageid='imageid', pheno_threshold_percent=None, pheno_threshold_abs=None)"
   ]
  },
  {
   "cell_type": "code",
   "execution_count": 43,
   "id": "2d65ff5b-edb1-4716-8068-f8e2cc579c07",
   "metadata": {},
   "outputs": [
    {
     "data": {
      "text/plain": [
       "phenotype\n",
       "T cells            51289\n",
       "Unknown            26268\n",
       "Melanocytes        23692\n",
       "Myeloid lineage    17442\n",
       "Keratinocytes      11765\n",
       "Myofibroblasts      1563\n",
       "Name: count, dtype: int64"
      ]
     },
     "execution_count": 43,
     "metadata": {},
     "output_type": "execute_result"
    }
   ],
   "source": [
    "adata.obs.phenotype.value_counts()"
   ]
  },
  {
   "cell_type": "code",
   "execution_count": 44,
   "id": "73d17565-ec45-4f4d-9f67-f15499594fa3",
   "metadata": {},
   "outputs": [],
   "source": [
    "# Load the ROI CSV file\n",
    "roi_df = pd.read_csv(r\"C:\\Users\\tav9\\HMS Dropbox\\Tuulia Vallius\\2024-Vallius-Novikov-Shi-Melanoma_PCA\\data\\e41\\LSP11402.ome.tif-old-1728087-rois.csv\")\n",
    "\n",
    "adata = sm.hl.addROI_omero(adata, roi=roi_df, label='MEL25_ROI_geoMX')"
   ]
  },
  {
   "cell_type": "code",
   "execution_count": 46,
   "id": "a1438e91-30c7-4729-bd2c-cb3f4e30fb44",
   "metadata": {},
   "outputs": [
    {
     "name": "stdout",
     "output_type": "stream",
     "text": [
      "Renaming LSP13145_061 to MEL25_061\n",
      "Renaming LSP13145_065 to MEL25_065\n",
      "Renaming LSP13145_059 to MEL25_059\n",
      "Renaming LSP13145_062 to MEL25_062\n"
     ]
    }
   ],
   "source": [
    "rename= {'MEL25_061': ['LSP13145_061'],\n",
    "        'MEL25_065':['LSP13145_065'],\n",
    "        'MEL25_059':['LSP13145_059'],\n",
    "        'MEL25_062':['LSP13145_062']}\n",
    "adata = sm.hl.rename(adata, rename, from_column='MEL25_ROI_geoMX', to_column='MEL25_ROI_geoMX')"
   ]
  },
  {
   "cell_type": "code",
   "execution_count": 45,
   "id": "892ae149-bd81-4371-9184-4748fa28b6c5",
   "metadata": {},
   "outputs": [
    {
     "data": {
      "text/plain": [
       "Index(['DNA1', '5hmC', 'Tet2', 'SOX10', 'LaminA/C/B1', 'PMEL', 'SOX9', 'S100B',\n",
       "       'MART1', 'aSMA', 'MITF', 'p21', 'panCK', 'ECAD', 'pSTAT1', 'MCM2',\n",
       "       'S100A1', 'Ki67', 'pSTAT3', 'PD1', 'pH3', 'PRAME', 'IRF5', 'IRF1',\n",
       "       'B2M', 'MX1', 'CD11c', 'NGFR', 'CK14', 'LDH', 'pERK', 'BCL2', 'VIM',\n",
       "       'CD3e', 'pS6', 'CCND1', 'CCNA2', 'PCNA', 'DNA12', 'p16/CDKN2A', 'HIF1a',\n",
       "       'H3k27me3'],\n",
       "      dtype='object')"
      ]
     },
     "execution_count": 45,
     "metadata": {},
     "output_type": "execute_result"
    }
   ],
   "source": [
    "adata.var.index"
   ]
  },
  {
   "cell_type": "code",
   "execution_count": 47,
   "id": "54406c12-c53b-4f4c-b8df-da8208b27077",
   "metadata": {},
   "outputs": [
    {
     "name": "stdout",
     "output_type": "stream",
     "text": [
      "Renaming MART1+ to MART1+\n",
      "Renaming Melanocytes to MART1-\n"
     ]
    }
   ],
   "source": [
    "sm.hl.classify(adata, pos=['MART1'], neg=None, classify_label='MART1+', phenotype='phenotype', \n",
    "               subclassify_phenotype='Melanocytes', threshold=0.5, collapse_failed=False, label='MART1pos')\n",
    "rename= {'MART1+': ['MART1+'],\n",
    "        'MART1-':['Melanocytes']}\n",
    "adata = sm.hl.rename(adata, rename, from_column='MART1pos', to_column='MART1pos')"
   ]
  },
  {
   "cell_type": "code",
   "execution_count": 48,
   "id": "473355d4-d114-4fec-94e9-9012d46fe21c",
   "metadata": {},
   "outputs": [
    {
     "name": "stdout",
     "output_type": "stream",
     "text": [
      "Renaming PMEL+ to PMEL+\n",
      "Renaming Melanocytes to PMEL-\n"
     ]
    }
   ],
   "source": [
    "sm.hl.classify(adata, pos=['PMEL'], neg=None, classify_label='PMEL+', phenotype='phenotype', \n",
    "               subclassify_phenotype='Melanocytes', threshold=0.5, collapse_failed=False, label='PMELpos')\n",
    "rename= {'PMEL+': ['PMEL+'],\n",
    "        'PMEL-':['Melanocytes']}\n",
    "adata = sm.hl.rename(adata, rename, from_column='PMELpos', to_column='PMELpos')"
   ]
  },
  {
   "cell_type": "code",
   "execution_count": 49,
   "id": "ad5b9298-9a87-475a-9312-27783efa3576",
   "metadata": {},
   "outputs": [
    {
     "name": "stdout",
     "output_type": "stream",
     "text": [
      "Renaming SOX9+ to SOX9+\n",
      "Renaming Melanocytes to SOX9-\n"
     ]
    }
   ],
   "source": [
    "sm.hl.classify(adata, pos=['SOX9'], neg=None, classify_label='SOX9+', phenotype='phenotype', \n",
    "               subclassify_phenotype='Melanocytes', threshold=0.5, collapse_failed=False, label='SOX9pos')\n",
    "rename= {'SOX9+': ['SOX9+'],\n",
    "        'SOX9-':['Melanocytes']}\n",
    "adata = sm.hl.rename(adata, rename, from_column='SOX9pos', to_column='SOX9pos')"
   ]
  },
  {
   "cell_type": "code",
   "execution_count": 50,
   "id": "a9ec601b-37d9-46e8-8a19-52143c330a7e",
   "metadata": {},
   "outputs": [
    {
     "name": "stdout",
     "output_type": "stream",
     "text": [
      "Renaming S100A+ to S100A+\n",
      "Renaming Melanocytes to S100A-\n"
     ]
    }
   ],
   "source": [
    "sm.hl.classify(adata, pos=['S100A1'], neg=None, classify_label='S100A+', phenotype='phenotype', \n",
    "               subclassify_phenotype='Melanocytes', threshold=0.5, collapse_failed=False, label='S100Apos')\n",
    "rename= {'S100A+': ['S100A+'],\n",
    "        'S100A-':['Melanocytes']}\n",
    "adata = sm.hl.rename(adata, rename, from_column='S100Apos', to_column='S100Apos')"
   ]
  },
  {
   "cell_type": "code",
   "execution_count": 56,
   "id": "62b4f20c-c047-47fd-8934-b1fcf0fa3e34",
   "metadata": {},
   "outputs": [],
   "source": [
    "sample = ['LSP11402--unmicst_cellRing']\n",
    "adata_MEL25=adata[(adata.obs['imageid'].isin(sample))]"
   ]
  },
  {
   "cell_type": "code",
   "execution_count": 57,
   "id": "1dfc77a7-49e0-4e28-b138-dc00970b26d3",
   "metadata": {},
   "outputs": [
    {
     "data": {
      "text/plain": [
       "imageid\n",
       "LSP11402--unmicst_cellRing    97814\n",
       "LSP11410--unmicst_cellRing    34205\n",
       "Name: count, dtype: int64"
      ]
     },
     "execution_count": 57,
     "metadata": {},
     "output_type": "execute_result"
    }
   ],
   "source": [
    "adata.obs.imageid.value_counts()"
   ]
  },
  {
   "cell_type": "code",
   "execution_count": 67,
   "id": "43c689bf-d7af-4bc3-9f62-9614412cf2ed",
   "metadata": {},
   "outputs": [
    {
     "name": "stdout",
     "output_type": "stream",
     "text": [
      "Saved plot to C:/Users/tav9/HMS Dropbox/Tuulia Vallius/test/test/MEL25_geoMX_MART1.pdf\n"
     ]
    },
    {
     "name": "stderr",
     "output_type": "stream",
     "text": [
      "WARNING: \"Unable to open monitor interface to \\\\\\\\.\\\\DISPLAY6:\" \"The operation completed successfully.\"\n"
     ]
    }
   ],
   "source": [
    "y=['MART1-','MART1+']\n",
    "x=['MEL25_061','MEL25_062','MEL25_065','MEL25_059']\n",
    "b=sm.pl.stacked_barplot(adata_MEL25, y_axis='MART1pos', x_axis='MEL25_ROI_geoMX', \n",
    "                      subset_xaxis=x, subset_yaxis=y, order_xaxis=x, order_yaxis=None, \n",
    "                      method='percent', figsize=(2,3), return_data=True, fileName='MEL25_geoMX_MART1.pdf', saveDir='C:/Users/tav9/HMS Dropbox/Tuulia Vallius/test/test/')"
   ]
  },
  {
   "cell_type": "code",
   "execution_count": 66,
   "id": "12e2d860-5dc3-4e50-ab80-f7a06b5f862e",
   "metadata": {},
   "outputs": [
    {
     "name": "stdout",
     "output_type": "stream",
     "text": [
      "Saved plot to C:/Users/tav9/HMS Dropbox/Tuulia Vallius/test/test/MEL25_geoMX_S100A.pdf\n"
     ]
    }
   ],
   "source": [
    "y=['S100A-','S100A+']\n",
    "x=['MEL25_061','MEL25_062','MEL25_065','MEL25_059']\n",
    "b=sm.pl.stacked_barplot(adata_MEL25, y_axis='S100Apos', x_axis='MEL25_ROI_geoMX', \n",
    "                      subset_xaxis=x, subset_yaxis=y, order_xaxis=x, order_yaxis=None, \n",
    "                      method='percent', figsize=(2,3), return_data=True, fileName='MEL25_geoMX_S100A.pdf', saveDir='C:/Users/tav9/HMS Dropbox/Tuulia Vallius/test/test/')"
   ]
  },
  {
   "cell_type": "code",
   "execution_count": 65,
   "id": "7a299f9c-7341-4f3d-9d81-0209fb9e92bd",
   "metadata": {},
   "outputs": [
    {
     "name": "stdout",
     "output_type": "stream",
     "text": [
      "Saved plot to C:/Users/tav9/HMS Dropbox/Tuulia Vallius/test/test/MEL25_geoMX_PMEL.pdf\n"
     ]
    }
   ],
   "source": [
    "y=['PMEL-','PMEL+']\n",
    "x=['MEL25_061','MEL25_062','MEL25_065','MEL25_059']\n",
    "b=sm.pl.stacked_barplot(adata_MEL25, y_axis='PMELpos', x_axis='MEL25_ROI_geoMX', \n",
    "                      subset_xaxis=x, subset_yaxis=y, order_xaxis=x, order_yaxis=None, \n",
    "                      method='percent', figsize=(2,3), return_data=True, fileName='MEL25_geoMX_PMEL.pdf', saveDir='C:/Users/tav9/HMS Dropbox/Tuulia Vallius/test/test/')"
   ]
  },
  {
   "cell_type": "code",
   "execution_count": 64,
   "id": "c7267249-85c1-4324-b19f-e7471029a1eb",
   "metadata": {},
   "outputs": [
    {
     "name": "stdout",
     "output_type": "stream",
     "text": [
      "Saved plot to C:/Users/tav9/HMS Dropbox/Tuulia Vallius/test/test/MEL25_geoMX_SOX9.pdf\n"
     ]
    }
   ],
   "source": [
    "y=['SOX9-','SOX9+']\n",
    "x=['MEL25_061','MEL25_062','MEL25_065','MEL25_059']\n",
    "b=sm.pl.stacked_barplot(adata_MEL25, y_axis='SOX9pos', x_axis='MEL25_ROI_geoMX', \n",
    "                      subset_xaxis=x, subset_yaxis=y, order_xaxis=x, order_yaxis=None, \n",
    "                      method='percent', figsize=(2,3), return_data=True, fileName='MEL25_geoMX_SOX9.pdf', saveDir='C:/Users/tav9/HMS Dropbox/Tuulia Vallius/test/test/')"
   ]
  },
  {
   "cell_type": "code",
   "execution_count": 60,
   "id": "22fa65b6-4d9a-4e6d-b4f0-8462649c1228",
   "metadata": {},
   "outputs": [],
   "source": [
    "LSP11402 = \"Y:/cycif-production/16-Pre-Cancer-Atlas-for-Melanoma/PCA_p16_e41_tumor_intrinsic/quantified/LSP11402/registration/LSP11402.ome.tif\"\n",
    "all_markers = ['DNA1','5hmC','Tet2','SOX10','DNA2','LaminA/C/B1','GATA3','PMEL','DNA3','SOX9','S100B','MART1','aSMA','DNA4','MITF','CD63','p21','panCK','DNA5','ECAD','pSTAT1','MCM2','S100A1','DNA6','Ki67','pSTAT3','PD1','pH3','DNA7','PRAME','IRF5','IRF1','B2M','DNA8','MX1','CD11c','NGFR','CK14','DNA9','LDH','pERK','BCL2','VIM','DNA10','CD3e','SOX2','MCL1','pS6','DNA11','CCND1','CCNA2','PDL1','PCNA','DNA12','p16/CDKN2A','SOX6','HIF1a','H3k27me3']\n",
    "\n",
    "sm.pl.image_viewer(image_path = LSP11402, adata=adata, overlay='MART1pos', \n",
    "                   channel_names=all_markers, x_coordinate='X_centroid', y_coordinate='Y_centroid', \n",
    "                   point_size=10, subset='LSP11402--unmicst_cellRing')"
   ]
  },
  {
   "cell_type": "code",
   "execution_count": null,
   "id": "df873f6b-d67a-40af-a4a1-e410a53eb9cc",
   "metadata": {},
   "outputs": [],
   "source": []
  },
  {
   "cell_type": "code",
   "execution_count": null,
   "id": "187aacd8-ab4f-447d-9aaa-40e86d003b3d",
   "metadata": {},
   "outputs": [],
   "source": []
  }
 ],
 "metadata": {
  "kernelspec": {
   "display_name": "Python 3 (ipykernel)",
   "language": "python",
   "name": "python3"
  },
  "language_info": {
   "codemirror_mode": {
    "name": "ipython",
    "version": 3
   },
   "file_extension": ".py",
   "mimetype": "text/x-python",
   "name": "python",
   "nbconvert_exporter": "python",
   "pygments_lexer": "ipython3",
   "version": "3.10.14"
  }
 },
 "nbformat": 4,
 "nbformat_minor": 5
}
