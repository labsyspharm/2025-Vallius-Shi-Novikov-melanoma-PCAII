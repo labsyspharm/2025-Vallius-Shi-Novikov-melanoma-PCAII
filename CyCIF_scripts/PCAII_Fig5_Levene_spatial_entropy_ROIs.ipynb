{
 "cells": [
  {
   "cell_type": "code",
   "execution_count": 1,
   "id": "bf9016d3-a0ed-49f5-b29c-27baa9bdd66a",
   "metadata": {},
   "outputs": [
    {
     "name": "stdout",
     "output_type": "stream",
     "text": [
      "Running SCIMAP  2.1.0\n"
     ]
    }
   ],
   "source": [
    "import sys\n",
    "import os\n",
    "import anndata as ad\n",
    "import pandas as pd\n",
    "import scanpy as sc\n",
    "import re\n",
    "import numpy as np\n",
    "import seaborn as sns; sns.set(color_codes=True)\n",
    "import scimap as sm  \n",
    "from matplotlib import pyplot as plt\n",
    "from matplotlib.patches import Patch\n",
    "from scipy.stats import pearsonr\n",
    "\n",
    "#set current directory\n",
    "os.chdir(\"C:/Users/tav9/Dropbox (HMS)/PCA_phaseII/cycif_analysis_materials/data_e41\")\n",
    "#os.chdir(\"/Users/roxannepelletier/Dropbox (HMS)/PCA_phaseII/cycif_analysis_materials/\")\n",
    "import napari"
   ]
  },
  {
   "cell_type": "code",
   "execution_count": 2,
   "id": "3c804e0e-9620-4988-8ae6-77572b1c397c",
   "metadata": {},
   "outputs": [],
   "source": [
    "df=pd.read_csv(r\"C:\\Users\\tav9\\HMS Dropbox\\Tuulia Vallius\\2024-Vallius-Novikov-Shi-Melanoma_PCA\\data\\e24\\entropy_ROIs\\df_spatial_entropy_lineage_grouped_across_comparable_progression_ROIs.csv\")"
   ]
  },
  {
   "cell_type": "code",
   "execution_count": 3,
   "id": "347635a5-3139-434d-a3af-cb44d96b60f4",
   "metadata": {},
   "outputs": [
    {
     "data": {
      "text/html": [
       "<div>\n",
       "<style scoped>\n",
       "    .dataframe tbody tr th:only-of-type {\n",
       "        vertical-align: middle;\n",
       "    }\n",
       "\n",
       "    .dataframe tbody tr th {\n",
       "        vertical-align: top;\n",
       "    }\n",
       "\n",
       "    .dataframe thead th {\n",
       "        text-align: right;\n",
       "    }\n",
       "</style>\n",
       "<table border=\"1\" class=\"dataframe\">\n",
       "  <thead>\n",
       "    <tr style=\"text-align: right;\">\n",
       "      <th></th>\n",
       "      <th>MIS</th>\n",
       "      <th>RGP</th>\n",
       "      <th>VGP</th>\n",
       "    </tr>\n",
       "  </thead>\n",
       "  <tbody>\n",
       "    <tr>\n",
       "      <th>0</th>\n",
       "      <td>0.034979</td>\n",
       "      <td>0.544295</td>\n",
       "      <td>1.473816</td>\n",
       "    </tr>\n",
       "    <tr>\n",
       "      <th>1</th>\n",
       "      <td>0.197873</td>\n",
       "      <td>0.197293</td>\n",
       "      <td>1.540565</td>\n",
       "    </tr>\n",
       "    <tr>\n",
       "      <th>2</th>\n",
       "      <td>0.061376</td>\n",
       "      <td>0.921688</td>\n",
       "      <td>0.923188</td>\n",
       "    </tr>\n",
       "    <tr>\n",
       "      <th>3</th>\n",
       "      <td>0.163631</td>\n",
       "      <td>0.150505</td>\n",
       "      <td>0.231226</td>\n",
       "    </tr>\n",
       "    <tr>\n",
       "      <th>4</th>\n",
       "      <td>0.276229</td>\n",
       "      <td>0.443571</td>\n",
       "      <td>0.327661</td>\n",
       "    </tr>\n",
       "    <tr>\n",
       "      <th>5</th>\n",
       "      <td>0.053924</td>\n",
       "      <td>0.843970</td>\n",
       "      <td>0.593495</td>\n",
       "    </tr>\n",
       "    <tr>\n",
       "      <th>6</th>\n",
       "      <td>0.008736</td>\n",
       "      <td>NaN</td>\n",
       "      <td>2.386514</td>\n",
       "    </tr>\n",
       "    <tr>\n",
       "      <th>7</th>\n",
       "      <td>0.159885</td>\n",
       "      <td>NaN</td>\n",
       "      <td>0.589825</td>\n",
       "    </tr>\n",
       "    <tr>\n",
       "      <th>8</th>\n",
       "      <td>0.104666</td>\n",
       "      <td>NaN</td>\n",
       "      <td>0.220033</td>\n",
       "    </tr>\n",
       "    <tr>\n",
       "      <th>9</th>\n",
       "      <td>0.162894</td>\n",
       "      <td>NaN</td>\n",
       "      <td>0.061526</td>\n",
       "    </tr>\n",
       "    <tr>\n",
       "      <th>10</th>\n",
       "      <td>0.407891</td>\n",
       "      <td>NaN</td>\n",
       "      <td>0.028727</td>\n",
       "    </tr>\n",
       "    <tr>\n",
       "      <th>11</th>\n",
       "      <td>0.095535</td>\n",
       "      <td>NaN</td>\n",
       "      <td>NaN</td>\n",
       "    </tr>\n",
       "    <tr>\n",
       "      <th>12</th>\n",
       "      <td>0.284698</td>\n",
       "      <td>NaN</td>\n",
       "      <td>NaN</td>\n",
       "    </tr>\n",
       "  </tbody>\n",
       "</table>\n",
       "</div>"
      ],
      "text/plain": [
       "         MIS       RGP       VGP\n",
       "0   0.034979  0.544295  1.473816\n",
       "1   0.197873  0.197293  1.540565\n",
       "2   0.061376  0.921688  0.923188\n",
       "3   0.163631  0.150505  0.231226\n",
       "4   0.276229  0.443571  0.327661\n",
       "5   0.053924  0.843970  0.593495\n",
       "6   0.008736       NaN  2.386514\n",
       "7   0.159885       NaN  0.589825\n",
       "8   0.104666       NaN  0.220033\n",
       "9   0.162894       NaN  0.061526\n",
       "10  0.407891       NaN  0.028727\n",
       "11  0.095535       NaN       NaN\n",
       "12  0.284698       NaN       NaN"
      ]
     },
     "execution_count": 3,
     "metadata": {},
     "output_type": "execute_result"
    }
   ],
   "source": [
    "df"
   ]
  },
  {
   "cell_type": "code",
   "execution_count": 4,
   "id": "bc79abe7-03bf-499e-95f1-801f06b1f078",
   "metadata": {},
   "outputs": [],
   "source": [
    "from scipy import stats"
   ]
  },
  {
   "cell_type": "code",
   "execution_count": 7,
   "id": "33f281c5-fa21-4816-8f52-f5bccfacf1cf",
   "metadata": {},
   "outputs": [
    {
     "data": {
      "text/plain": [
       "0.00626877676152892"
      ]
     },
     "execution_count": 7,
     "metadata": {},
     "output_type": "execute_result"
    }
   ],
   "source": [
    "stat, p = stats.levene(df['MIS'], df['RGP'], df['VGP'], nan_policy='omit')\n",
    "p"
   ]
  },
  {
   "cell_type": "code",
   "execution_count": 8,
   "id": "763a51b8-dfd9-4629-b601-4b04459afc7c",
   "metadata": {},
   "outputs": [
    {
     "data": {
      "text/plain": [
       "0.0038363188510817416"
      ]
     },
     "execution_count": 8,
     "metadata": {},
     "output_type": "execute_result"
    }
   ],
   "source": [
    "stat, p = stats.levene(df['MIS'], df['VGP'], nan_policy='omit')\n",
    "p"
   ]
  },
  {
   "cell_type": "code",
   "execution_count": 9,
   "id": "869c89b7-533b-429e-bdb2-e25dbc8be365",
   "metadata": {},
   "outputs": [
    {
     "data": {
      "text/plain": [
       "0.005680391388873539"
      ]
     },
     "execution_count": 9,
     "metadata": {},
     "output_type": "execute_result"
    }
   ],
   "source": [
    "stat, p = stats.levene(df['MIS'], df['RGP'], nan_policy='omit')\n",
    "p"
   ]
  },
  {
   "cell_type": "code",
   "execution_count": 10,
   "id": "8fc299a3-645c-4b9a-81b0-3043e82c2a0a",
   "metadata": {
    "scrolled": true
   },
   "outputs": [
    {
     "data": {
      "text/plain": [
       "0.19287514909040046"
      ]
     },
     "execution_count": 10,
     "metadata": {},
     "output_type": "execute_result"
    }
   ],
   "source": [
    "stat, p = stats.levene(df['VGP'], df['RGP'], nan_policy='omit')\n",
    "p"
   ]
  },
  {
   "cell_type": "code",
   "execution_count": 11,
   "id": "8c8d43cc-fb50-4913-b6a8-92a02a63e66f",
   "metadata": {},
   "outputs": [
    {
     "data": {
      "text/plain": [
       "[0.013193306502686056, 0.10267003392991644, 0.5628358733587625]"
      ]
     },
     "execution_count": 11,
     "metadata": {},
     "output_type": "execute_result"
    }
   ],
   "source": [
    "[np.var(x, ddof=1) for x in [df['MIS'], df['RGP'], df['VGP']]]"
   ]
  },
  {
   "cell_type": "code",
   "execution_count": null,
   "id": "2dacf812-01bd-4335-a68f-297b20aaefed",
   "metadata": {},
   "outputs": [],
   "source": []
  }
 ],
 "metadata": {
  "kernelspec": {
   "display_name": "Python 3 (ipykernel)",
   "language": "python",
   "name": "python3"
  },
  "language_info": {
   "codemirror_mode": {
    "name": "ipython",
    "version": 3
   },
   "file_extension": ".py",
   "mimetype": "text/x-python",
   "name": "python",
   "nbconvert_exporter": "python",
   "pygments_lexer": "ipython3",
   "version": "3.10.14"
  }
 },
 "nbformat": 4,
 "nbformat_minor": 5
}
