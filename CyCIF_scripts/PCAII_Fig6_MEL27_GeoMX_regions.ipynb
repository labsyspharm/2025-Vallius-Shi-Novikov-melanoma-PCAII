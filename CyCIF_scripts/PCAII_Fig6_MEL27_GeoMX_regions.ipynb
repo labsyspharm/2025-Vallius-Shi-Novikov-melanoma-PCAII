{
 "cells": [
  {
   "cell_type": "code",
   "execution_count": 1,
   "id": "3e05fbda-b9fa-425c-a7ab-cca66b94bc5c",
   "metadata": {},
   "outputs": [
    {
     "name": "stdout",
     "output_type": "stream",
     "text": [
      "Running SCIMAP  2.1.0\n"
     ]
    }
   ],
   "source": [
    "import sys\n",
    "import os\n",
    "import anndata as ad\n",
    "import pandas as pd\n",
    "import scanpy as sc\n",
    "import re\n",
    "import numpy as np\n",
    "import seaborn as sns; sns.set(color_codes=True)\n",
    "import scimap as sm  \n",
    "from matplotlib import pyplot as plt\n",
    "from matplotlib.patches import Patch\n",
    "from scipy.stats import pearsonr\n",
    "import napari"
   ]
  },
  {
   "cell_type": "code",
   "execution_count": 2,
   "id": "eaa616c0-f596-410d-9044-31f98e6782de",
   "metadata": {},
   "outputs": [
    {
     "name": "stderr",
     "output_type": "stream",
     "text": [
      "C:\\Users\\tav9\\AppData\\Local\\anaconda3\\envs\\scimap_new\\lib\\site-packages\\anndata\\__init__.py:55: FutureWarning:\n",
      "\n",
      "`anndata.read` is deprecated, use `anndata.read_h5ad` instead. `ad.read` will be removed in mid 2024.\n",
      "\n"
     ]
    }
   ],
   "source": [
    "adata=ad.read(r\"C:\\Users\\tav9\\HMS Dropbox\\Tuulia Vallius\\PCA_phaseII\\cycif_analysis_materials\\data_e41\\e41_mel27_cy8_04012025.h5ad\")"
   ]
  },
  {
   "cell_type": "code",
   "execution_count": 3,
   "id": "31f01003-ff9d-4b5f-81be-c4540077aa42",
   "metadata": {},
   "outputs": [
    {
     "data": {
      "text/plain": [
       "AnnData object with n_obs × n_vars = 128060 × 33\n",
       "    obs: 'X_centroid', 'Y_centroid', 'Area', 'MajorAxisLength', 'MinorAxisLength', 'Eccentricity', 'Solidity', 'Extent', 'Orientation', 'CellID', 'imageid', 'batch', 'ROI', 'LOSE', 'ROI_major_category', 'ROI_TV', 'phenotype', 'MEL_id', 'GeoMx_aoi', 'tumor_state'\n",
       "    uns: 'all_markers'\n",
       "    layers: 'combat', 'log', 'raw', 'rescaled'"
      ]
     },
     "execution_count": 3,
     "metadata": {},
     "output_type": "execute_result"
    }
   ],
   "source": [
    "adata"
   ]
  },
  {
   "cell_type": "code",
   "execution_count": 8,
   "id": "c39a3246-f69e-4822-b04b-dd7bf92671ce",
   "metadata": {
    "scrolled": true
   },
   "outputs": [
    {
     "name": "stdout",
     "output_type": "stream",
     "text": [
      "Renaming LSP13914_006 to I\n",
      "Renaming LSP13914_007 to I\n",
      "Renaming LSP13914_012 to I\n",
      "Renaming LSP13914_009 to I\n",
      "Renaming LSP13914_008 to I\n",
      "Renaming LSP13914_011 to I\n",
      "Renaming LSP13914_005 to I\n",
      "Renaming LSP13914_014 to II\n",
      "Renaming LSP13918_027 to II\n",
      "Renaming LSP13918_049 to II\n",
      "Renaming LSP13918_043 to II\n",
      "Renaming LSP13914_017 to II\n",
      "Renaming LSP13918_029 to II\n",
      "Renaming LSP13914_015 to II\n",
      "Renaming LSP13918_028 to IV\n",
      "Renaming LSP13918_031 to IV\n",
      "Renaming LSP13918_030 to IV\n",
      "Renaming LSP13914_003 to V\n",
      "Renaming LSP13918_010 to VI\n",
      "Renaming LSP13918_009 to VI\n",
      "Renaming LSP13918_011 to VI\n",
      "Renaming LSP13918_050 to VI\n"
     ]
    }
   ],
   "source": [
    "#rename GeoMX regions to belong to the clusters within the correlation spanning tree\n",
    "\n",
    "rename={'I':['LSP13914_006','LSP13914_007','LSP13914_012','LSP13914_009','LSP13914_008','LSP13914_011','LSP13914_005'],\n",
    "'II':['LSP13914_014','LSP13918_027','LSP13918_049','LSP13918_043','LSP13914_017','LSP13918_029','LSP13914_015'],\n",
    "'III':[],\n",
    "'IV':['LSP13918_028','LSP13918_031','LSP13918_030'],\n",
    "'V':['LSP13914_003'],\n",
    "'VI':['LSP13918_010','LSP13918_009','LSP13918_011','LSP13918_050']}\n",
    "\n",
    "adata = sm.hl.rename(adata, rename, from_column='GeoMx_aoi', to_column='CST_cluster_group')"
   ]
  },
  {
   "cell_type": "code",
   "execution_count": 11,
   "id": "724b0745-c92c-4d49-82f5-70ffdeb5ecb5",
   "metadata": {},
   "outputs": [
    {
     "name": "stdout",
     "output_type": "stream",
     "text": [
      "Renaming NGFR+ to NGFR+\n",
      "Renaming Melanocytes to NGFR-\n",
      "Renaming SOX9+ to SOX9+\n",
      "Renaming Melanocytes to SOX9-\n",
      "Renaming MART1+ to MART1+\n",
      "Renaming Melanocytes to MART1-\n"
     ]
    }
   ],
   "source": [
    "#define MART+/NGFR+/SOX9+ tumor states\n",
    "\n",
    "sm.hl.classify(adata, pos=['NGFR'], neg=None, classify_label='NGFR+', phenotype='phenotype', \n",
    "               subclassify_phenotype='Melanocytes', threshold=0.5, collapse_failed=False, label='NGFRpos')\n",
    "rename= {'NGFR+': ['NGFR+'],\n",
    "        'NGFR-':['Melanocytes']}\n",
    "adata = sm.hl.rename(adata, rename, from_column='NGFRpos', to_column='NGFRpos')\n",
    "\n",
    "sm.hl.classify(adata, pos=['SOX9'], neg=None, classify_label='SOX9+', phenotype='phenotype', \n",
    "               subclassify_phenotype='Melanocytes', threshold=0.5, collapse_failed=False, label='SOX9pos')\n",
    "rename= {'SOX9+': ['SOX9+'],\n",
    "        'SOX9-':['Melanocytes']}\n",
    "adata = sm.hl.rename(adata, rename, from_column='SOX9pos', to_column='SOX9pos')\n",
    "\n",
    "sm.hl.classify(adata, pos=['MART1'], neg=None, classify_label='MART1+', phenotype='phenotype', \n",
    "               subclassify_phenotype='Melanocytes', threshold=0.5, collapse_failed=False, label='MART1pos')\n",
    "rename= {'MART1+': ['MART1+'],\n",
    "        'MART1-':['Melanocytes']}\n",
    "adata = sm.hl.rename(adata, rename, from_column='MART1pos', to_column='MART1pos')"
   ]
  },
  {
   "cell_type": "code",
   "execution_count": 12,
   "id": "c6d6db03-35ab-4db7-b30e-04c961c5b57d",
   "metadata": {},
   "outputs": [],
   "source": [
    "adata.obs[\"tumor_state_v2\"] = adata.obs[[\"MART1pos\",\"NGFRpos\"]].agg(\" \".join, axis=1)"
   ]
  },
  {
   "cell_type": "code",
   "execution_count": 23,
   "id": "861e2b3b-3889-40fc-b48a-7a62669aa0f8",
   "metadata": {},
   "outputs": [
    {
     "data": {
      "text/plain": [
       "tumor_state_v3\n",
       "Unknown Unknown Unknown                            67892\n",
       "Keratinocytes Keratinocytes Keratinocytes          20379\n",
       "Myeloid lineage Myeloid lineage Myeloid lineage    13256\n",
       "Myofibroblasts Myofibroblasts Myofibroblasts       11517\n",
       "MART1- NGFR- SOX9-                                  6197\n",
       "MART1+ NGFR- SOX9-                                  4762\n",
       "MART1- NGFR+ SOX9-                                  1660\n",
       "MART1- NGFR- SOX9+                                  1153\n",
       "MART1- NGFR+ SOX9+                                   874\n",
       "MART1+ NGFR- SOX9+                                   340\n",
       "MART1+ NGFR+ SOX9-                                    15\n",
       "MART1+ NGFR+ SOX9+                                    15\n",
       "Name: count, dtype: int64"
      ]
     },
     "execution_count": 23,
     "metadata": {},
     "output_type": "execute_result"
    }
   ],
   "source": [
    "adata.obs[\"tumor_state_v3\"].value_counts()"
   ]
  },
  {
   "cell_type": "code",
   "execution_count": 22,
   "id": "477db68e-be7c-406a-be39-52800fc0b226",
   "metadata": {},
   "outputs": [],
   "source": [
    "adata.obs[\"tumor_state_v3\"] = adata.obs[[\"tumor_state_v2\",\"SOX9pos\"]].agg(\" \".join, axis=1)"
   ]
  },
  {
   "cell_type": "code",
   "execution_count": 25,
   "id": "6003dba9-8b6f-4e2e-9fc2-958f9f724416",
   "metadata": {},
   "outputs": [
    {
     "data": {
      "image/png": "[encoded data removed]",
      "text/plain": [
       "<Figure size 350x200 with 1 Axes>"
      ]
     },
     "metadata": {},
     "output_type": "display_data"
    }
   ],
   "source": [
    "x=['LSP13914_006','LSP13914_007','LSP13914_012','LSP13914_009','LSP13914_008','LSP13914_011','LSP13914_005',\n",
    "  'LSP13914_014','LSP13918_027','LSP13918_049','LSP13918_043','LSP13914_017','LSP13918_029','LSP13914_015',\n",
    "  'LSP13918_028','LSP13918_031','LSP13918_030',\n",
    "  'LSP13914_003',\n",
    "  'LSP13918_010','LSP13918_009','LSP13918_011','LSP13918_050']\n",
    "\n",
    "y=['MART1- NGFR+','MART1+ NGFR-','MART1- NGFR-']\n",
    "b=sm.pl.stacked_barplot(adata, y_axis='tumor_state_v2', x_axis='GeoMx_aoi', \n",
    "                      subset_xaxis=x, subset_yaxis=y, order_xaxis=x, order_yaxis=None, \n",
    "                      method='percent', figsize=(3.5,2), return_data=True)"
   ]
  },
  {
   "cell_type": "code",
   "execution_count": 29,
   "id": "e1512024-7741-4e33-a953-8c83f64b97cb",
   "metadata": {},
   "outputs": [
    {
     "name": "stdout",
     "output_type": "stream",
     "text": [
      "Saved plot to C:\\Users\\tav9\\HMS Dropbox\\Tuulia Vallius\\test\\test\\MEL27_tumor_state_geoMX_MR.pdf\n"
     ]
    }
   ],
   "source": [
    "x=['LSP13914_006','LSP13914_007','LSP13914_012','LSP13914_009','LSP13914_008','LSP13914_011','LSP13914_005',\n",
    "  'LSP13914_014','LSP13918_027','LSP13918_049','LSP13918_043','LSP13914_017','LSP13918_029','LSP13914_015',\n",
    "  'LSP13918_028','LSP13918_031','LSP13918_030',\n",
    "  'LSP13914_003',\n",
    "  'LSP13918_010','LSP13918_009','LSP13918_011','LSP13918_050']\n",
    "\n",
    "y=['MART1- NGFR- SOX9-','MART1+ NGFR- SOX9-','MART1- NGFR+ SOX9-','MART1- NGFR- SOX9+','MART1+ NGFR- SOX9+']\n",
    "b=sm.pl.stacked_barplot(adata, y_axis='tumor_state_v3', x_axis='GeoMx_aoi', \n",
    "                      subset_xaxis=x, subset_yaxis=y, order_xaxis=x, order_yaxis=None, \n",
    "                      method='percent', figsize=(3.5,2), return_data=True,fileName=\"MEL27_tumor_state_geoMX_MR.pdf\", saveDir=(r\"C:\\Users\\tav9\\HMS Dropbox\\Tuulia Vallius\\test\\test\"))"
   ]
  },
  {
   "cell_type": "code",
   "execution_count": null,
   "id": "e490979a-4a7e-4f6f-bc9a-3cfbacc95f64",
   "metadata": {},
   "outputs": [],
   "source": []
  }
 ],
 "metadata": {
  "kernelspec": {
   "display_name": "Python 3 (ipykernel)",
   "language": "python",
   "name": "python3"
  },
  "language_info": {
   "codemirror_mode": {
    "name": "ipython",
    "version": 3
   },
   "file_extension": ".py",
   "mimetype": "text/x-python",
   "name": "python",
   "nbconvert_exporter": "python",
   "pygments_lexer": "ipython3",
   "version": "3.10.14"
  }
 },
 "nbformat": 4,
 "nbformat_minor": 5
}
