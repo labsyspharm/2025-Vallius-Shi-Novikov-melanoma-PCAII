{
 "cells": [
  {
   "cell_type": "code",
   "execution_count": 1,
   "id": "593849b0-2a8e-4512-aa42-d921b83962bc",
   "metadata": {},
   "outputs": [
    {
     "name": "stdout",
     "output_type": "stream",
     "text": [
      "Running SCIMAP  2.1.0\n"
     ]
    }
   ],
   "source": [
    "import sys\n",
    "import os\n",
    "import anndata as ad\n",
    "import pandas as pd\n",
    "import scanpy as sc\n",
    "import re\n",
    "import numpy as np\n",
    "import seaborn as sns; sns.set(color_codes=True)\n",
    "import scimap as sm  \n",
    "from matplotlib import pyplot as plt\n",
    "from matplotlib.patches import Patch\n",
    "from scipy.stats import pearsonr\n",
    "\n",
    "#set current directory\n",
    "os.chdir(\"C:/Users/tav9/Dropbox (HMS)/PCA_phaseII/cycif_analysis_materials/data_e41\")\n",
    "import napari"
   ]
  },
  {
   "cell_type": "code",
   "execution_count": 2,
   "id": "0357391e-fda1-43d0-833f-227a46c9c6ad",
   "metadata": {},
   "outputs": [
    {
     "name": "stderr",
     "output_type": "stream",
     "text": [
      "C:\\Users\\tav9\\AppData\\Local\\anaconda3\\envs\\scimap_new\\lib\\site-packages\\anndata\\__init__.py:55: FutureWarning:\n",
      "\n",
      "`anndata.read` is deprecated, use `anndata.read_h5ad` instead. `ad.read` will be removed in mid 2024.\n",
      "\n"
     ]
    }
   ],
   "source": [
    "adata=ad.read(\"./e41_all_cells_v4.h5ad\")"
   ]
  },
  {
   "cell_type": "code",
   "execution_count": 3,
   "id": "8e762bb1-f1d9-45f3-9750-63162a48b251",
   "metadata": {},
   "outputs": [
    {
     "data": {
      "text/plain": [
       "AnnData object with n_obs × n_vars = 743384 × 42\n",
       "    obs: 'X_centroid', 'Y_centroid', 'Area', 'MajorAxisLength', 'MinorAxisLength', 'Eccentricity', 'Solidity', 'Extent', 'Orientation', 'CellID', 'imageid', 'ROI', 'ROI_major_category', 'phenotype', 'MEL_id', 'B2Mpos', 'ROI_rename'\n",
       "    uns: 'all_markers', 'gates', 'spatial_distance'"
      ]
     },
     "execution_count": 3,
     "metadata": {},
     "output_type": "execute_result"
    }
   ],
   "source": [
    "adata"
   ]
  },
  {
   "cell_type": "code",
   "execution_count": 4,
   "id": "f2246bf1-afae-4bd0-9db9-2f74ed0c8fcd",
   "metadata": {},
   "outputs": [
    {
     "name": "stdout",
     "output_type": "stream",
     "text": [
      "Renaming MART1+ to MART1+\n",
      "Renaming Melanocytes to MART1-\n"
     ]
    }
   ],
   "source": [
    "sm.hl.classify(adata, pos=['MART1'], neg=None, classify_label='MART1+', phenotype='phenotype', \n",
    "               subclassify_phenotype='Melanocytes', threshold=0.5, collapse_failed=False, label='MART1pos')\n",
    "rename= {'MART1+': ['MART1+'],\n",
    "        'MART1-':['Melanocytes']}\n",
    "adata = sm.hl.rename(adata, rename, from_column='MART1pos', to_column='MART1pos')"
   ]
  },
  {
   "cell_type": "code",
   "execution_count": 5,
   "id": "b34b6d35-f69b-4cfc-bb8b-3f19af2abc25",
   "metadata": {},
   "outputs": [
    {
     "name": "stdout",
     "output_type": "stream",
     "text": [
      "Renaming PMEL+ to PMEL+\n",
      "Renaming Melanocytes to PMEL-\n"
     ]
    }
   ],
   "source": [
    "sm.hl.classify(adata, pos=['PMEL'], neg=None, classify_label='PMEL+', phenotype='phenotype', \n",
    "               subclassify_phenotype='Melanocytes', threshold=0.5, collapse_failed=False, label='PMELpos')\n",
    "rename= {'PMEL+': ['PMEL+'],\n",
    "        'PMEL-':['Melanocytes']}\n",
    "adata = sm.hl.rename(adata, rename, from_column='PMELpos', to_column='PMELpos')"
   ]
  },
  {
   "cell_type": "code",
   "execution_count": 6,
   "id": "46dfbea6-d66e-4740-b411-59104cd5e132",
   "metadata": {},
   "outputs": [
    {
     "name": "stdout",
     "output_type": "stream",
     "text": [
      "Renaming ECAD+ to ECAD+\n",
      "Renaming Melanocytes to ECAD-\n"
     ]
    }
   ],
   "source": [
    "sm.hl.classify(adata, pos=['ECAD'], neg=None, classify_label='ECAD+', phenotype='phenotype', \n",
    "               subclassify_phenotype='Melanocytes', threshold=0.5, collapse_failed=False, label='ECADpos')\n",
    "rename= {'ECAD+': ['ECAD+'],\n",
    "        'ECAD-':['Melanocytes']}\n",
    "adata = sm.hl.rename(adata, rename, from_column='ECADpos', to_column='ECADpos')"
   ]
  },
  {
   "cell_type": "code",
   "execution_count": 14,
   "id": "7e22f140-ba70-4c4d-b44b-a7052419f326",
   "metadata": {},
   "outputs": [
    {
     "name": "stdout",
     "output_type": "stream",
     "text": [
      "Renaming SOX9+ to SOX9+\n",
      "Renaming Melanocytes to SOX9-\n"
     ]
    }
   ],
   "source": [
    "sm.hl.classify(adata, pos=['SOX9'], neg=None, classify_label='SOX9+', phenotype='phenotype', \n",
    "               subclassify_phenotype='Melanocytes', threshold=0.5, collapse_failed=False, label='SOX9pos')\n",
    "rename= {'SOX9+': ['SOX9+'],\n",
    "        'SOX9-':['Melanocytes']}\n",
    "adata = sm.hl.rename(adata, rename, from_column='SOX9pos', to_column='SOX9pos')"
   ]
  },
  {
   "cell_type": "code",
   "execution_count": 26,
   "id": "06741398-c01a-422c-9c80-dfae67eb5dad",
   "metadata": {},
   "outputs": [
    {
     "name": "stdout",
     "output_type": "stream",
     "text": [
      "Renaming S100A+ to S100A+\n",
      "Renaming Melanocytes to S100A-\n"
     ]
    }
   ],
   "source": [
    "sm.hl.classify(adata, pos=['S100A1'], neg=None, classify_label='S100A+', phenotype='phenotype', \n",
    "               subclassify_phenotype='Melanocytes', threshold=0.5, collapse_failed=False, label='S100Apos')\n",
    "rename= {'S100A+': ['S100A+'],\n",
    "        'S100A-':['Melanocytes']}\n",
    "adata = sm.hl.rename(adata, rename, from_column='S100Apos', to_column='S100Apos')"
   ]
  },
  {
   "cell_type": "code",
   "execution_count": 18,
   "id": "f015a062-8db3-4aa4-a97d-3cf5a4bb114d",
   "metadata": {},
   "outputs": [
    {
     "name": "stdout",
     "output_type": "stream",
     "text": [
      "Renaming LSP13135_015 to MEL18_015\n",
      "Renaming LSP13135_016 to MEL18_016\n",
      "Renaming LSP13135_027 to MEL18_027\n",
      "Renaming LSP13135_026 to MEL18_026\n"
     ]
    }
   ],
   "source": [
    "rename= {'MEL18_015': ['LSP13135_015'],\n",
    "        'MEL18_016':['LSP13135_016'],\n",
    "        'MEL18_027':['LSP13135_027'],\n",
    "        'MEL18_026':['LSP13135_026']}\n",
    "adata = sm.hl.rename(adata, rename, from_column='ROI', to_column='ROI_MEL18')"
   ]
  },
  {
   "cell_type": "code",
   "execution_count": 29,
   "id": "c4a8bb96-799c-4352-a468-f29645492d3c",
   "metadata": {},
   "outputs": [
    {
     "name": "stdout",
     "output_type": "stream",
     "text": [
      "Saved plot to C:/Users/tav9/HMS Dropbox/Tuulia Vallius/test/test/MEL18_geoMX_MART1.pdf\n"
     ]
    }
   ],
   "source": [
    "sample = ['MEL18']\n",
    "adata_MEL18=adata[(adata.obs['MEL_id'].isin(sample))]\n",
    "\n",
    "y=['MART1-','MART1+']\n",
    "x=['MEL18_015','MEL18_016','MEL18_027','MEL18_026']\n",
    "b=sm.pl.stacked_barplot(adata_MEL18, y_axis='MART1pos', x_axis='ROI_MEL18', \n",
    "                      subset_xaxis=x, subset_yaxis=y, order_xaxis=None, order_yaxis=None, \n",
    "                      method='percent', figsize=(2,3), return_data=True, fileName='MEL18_geoMX_MART1.pdf', saveDir='C:/Users/tav9/HMS Dropbox/Tuulia Vallius/test/test/')"
   ]
  },
  {
   "cell_type": "code",
   "execution_count": 30,
   "id": "88357cd8-6fa0-414b-9c45-5fea60e0619e",
   "metadata": {},
   "outputs": [
    {
     "name": "stdout",
     "output_type": "stream",
     "text": [
      "Saved plot to C:/Users/tav9/HMS Dropbox/Tuulia Vallius/test/test/MEL18_geoMX_SOX9.pdf\n"
     ]
    }
   ],
   "source": [
    "sample = ['MEL18']\n",
    "adata_MEL18=adata[(adata.obs['MEL_id'].isin(sample))]\n",
    "\n",
    "y=['SOX9-','SOX9+']\n",
    "x=['MEL18_015','MEL18_016','MEL18_027','MEL18_026']\n",
    "b=sm.pl.stacked_barplot(adata_MEL18, y_axis='SOX9pos', x_axis='ROI_MEL18', \n",
    "                      subset_xaxis=x, subset_yaxis=y, order_xaxis=None, order_yaxis=None, \n",
    "                      method='percent', figsize=(2,3), return_data=True, fileName='MEL18_geoMX_SOX9.pdf', saveDir='C:/Users/tav9/HMS Dropbox/Tuulia Vallius/test/test/')"
   ]
  },
  {
   "cell_type": "code",
   "execution_count": 31,
   "id": "339793c8-f538-4109-8e41-5fbf92274e51",
   "metadata": {},
   "outputs": [
    {
     "name": "stdout",
     "output_type": "stream",
     "text": [
      "Saved plot to C:/Users/tav9/HMS Dropbox/Tuulia Vallius/test/test/MEL18_geoMX_S100A.pdf\n"
     ]
    }
   ],
   "source": [
    "sample = ['MEL18']\n",
    "adata_MEL18=adata[(adata.obs['MEL_id'].isin(sample))]\n",
    "\n",
    "y=['S100A-','S100A+']\n",
    "x=['MEL18_015','MEL18_016','MEL18_027','MEL18_026']\n",
    "b=sm.pl.stacked_barplot(adata_MEL18, y_axis='S100Apos', x_axis='ROI_MEL18', \n",
    "                      subset_xaxis=x, subset_yaxis=y, order_xaxis=None, order_yaxis=None, \n",
    "                      method='percent', figsize=(2,3), return_data=True, fileName='MEL18_geoMX_S100A.pdf', saveDir='C:/Users/tav9/HMS Dropbox/Tuulia Vallius/test/test/')"
   ]
  },
  {
   "cell_type": "code",
   "execution_count": 32,
   "id": "c826685a-8be0-425f-a159-19350fb32344",
   "metadata": {},
   "outputs": [
    {
     "name": "stdout",
     "output_type": "stream",
     "text": [
      "Saved plot to C:/Users/tav9/HMS Dropbox/Tuulia Vallius/test/test/MEL18_geoMX_PMEL.pdf\n"
     ]
    }
   ],
   "source": [
    "sample = ['MEL18']\n",
    "adata_MEL18=adata[(adata.obs['MEL_id'].isin(sample))]\n",
    "\n",
    "y=['PMEL-','PMEL+']\n",
    "x=['MEL18_015','MEL18_016','MEL18_027','MEL18_026']\n",
    "b=sm.pl.stacked_barplot(adata_MEL18, y_axis='PMELpos', x_axis='ROI_MEL18', \n",
    "                      subset_xaxis=x, subset_yaxis=y, order_xaxis=None, order_yaxis=None, \n",
    "                      method='percent', figsize=(2,3), return_data=True, fileName='MEL18_geoMX_PMEL.pdf', saveDir='C:/Users/tav9/HMS Dropbox/Tuulia Vallius/test/test/')"
   ]
  },
  {
   "cell_type": "code",
   "execution_count": 33,
   "id": "fad0a47e-06eb-40ac-8353-c0bf0dd1de34",
   "metadata": {},
   "outputs": [],
   "source": [
    "# Load the ROI CSV file\n",
    "roi_df = pd.read_csv(r\"C:\\Users\\tav9\\HMS Dropbox\\Tuulia Vallius\\2024-Vallius-Novikov-Shi-Melanoma_PCA\\data\\e41\\LSP11402.ome.tif-old-1728087-rois.csv\")\n",
    "\n",
    "adata = sm.hl.addROI_omero(adata, roi=roi_df, label='MEL25_ROI_geoMX')"
   ]
  },
  {
   "cell_type": "code",
   "execution_count": 34,
   "id": "adb9739c-ffd0-4c4b-966f-36696959a486",
   "metadata": {},
   "outputs": [
    {
     "data": {
      "text/plain": [
       "AnnData object with n_obs × n_vars = 743384 × 42\n",
       "    obs: 'X_centroid', 'Y_centroid', 'Area', 'MajorAxisLength', 'MinorAxisLength', 'Eccentricity', 'Solidity', 'Extent', 'Orientation', 'CellID', 'imageid', 'ROI', 'ROI_major_category', 'phenotype', 'MEL_id', 'B2Mpos', 'ROI_rename', 'MART1pos', 'PMELpos', 'ECADpos', 'SOX9pos', 'S100Apos', 'ROI_MEL18', 'MEL25_ROI_geoMX'\n",
       "    uns: 'all_markers', 'gates', 'spatial_distance'"
      ]
     },
     "execution_count": 34,
     "metadata": {},
     "output_type": "execute_result"
    }
   ],
   "source": [
    "adata"
   ]
  },
  {
   "cell_type": "code",
   "execution_count": 35,
   "id": "b2d25db6-97fe-4dd5-ab24-4f64c5ba1d7f",
   "metadata": {},
   "outputs": [
    {
     "data": {
      "text/plain": [
       "MEL25_ROI_geoMX\n",
       "Other           736253\n",
       "LSP13145_061      2909\n",
       "LSP13145_065      2414\n",
       "LSP13145_059      1145\n",
       "LSP13145_062       663\n",
       "Name: count, dtype: int64"
      ]
     },
     "execution_count": 35,
     "metadata": {},
     "output_type": "execute_result"
    }
   ],
   "source": [
    "adata.obs.MEL25_ROI_geoMX.value_counts()"
   ]
  },
  {
   "cell_type": "code",
   "execution_count": 36,
   "id": "15af1bfc-0a33-4386-a0ee-a71ad8441265",
   "metadata": {},
   "outputs": [
    {
     "name": "stdout",
     "output_type": "stream",
     "text": [
      "Renaming LSP13145_061 to MEL25_061\n",
      "Renaming LSP13145_065 to MEL25_065\n",
      "Renaming LSP13145_059 to MEL25_059\n",
      "Renaming LSP13145_062 to MEL25_062\n"
     ]
    }
   ],
   "source": [
    "rename= {'MEL25_061': ['LSP13145_061'],\n",
    "        'MEL25_065':['LSP13145_065'],\n",
    "        'MEL25_059':['LSP13145_059'],\n",
    "        'MEL25_062':['LSP13145_062']}\n",
    "adata = sm.hl.rename(adata, rename, from_column='MEL25_ROI_geoMX', to_column='MEL25_ROI_geoMX')"
   ]
  },
  {
   "cell_type": "code",
   "execution_count": 47,
   "id": "4c9912f4-0639-4744-83f7-c668ba0f099c",
   "metadata": {},
   "outputs": [
    {
     "name": "stdout",
     "output_type": "stream",
     "text": [
      "Saved plot to C:/Users/tav9/HMS Dropbox/Tuulia Vallius/test/test/MEL25_geoMX_S100A.pdf\n"
     ]
    }
   ],
   "source": [
    "sample = ['MEL25']\n",
    "adata_MEL25=adata[(adata.obs['MEL_id'].isin(sample))]\n",
    "\n",
    "y=['S100A-','S100A+']\n",
    "x=['MEL25_061','MEL25_062','MEL25_065','MEL25_059']\n",
    "b=sm.pl.stacked_barplot(adata_MEL25, y_axis='S100Apos', x_axis='MEL25_ROI_geoMX', \n",
    "                      subset_xaxis=x, subset_yaxis=y, order_xaxis=x, order_yaxis=None, \n",
    "                      method='percent', figsize=(2,3), return_data=True, fileName='MEL25_geoMX_S100A.pdf', saveDir='C:/Users/tav9/HMS Dropbox/Tuulia Vallius/test/test/')"
   ]
  },
  {
   "cell_type": "code",
   "execution_count": 48,
   "id": "564bff67-05b0-42f3-b831-dcf48ea594ab",
   "metadata": {},
   "outputs": [],
   "source": [
    "#Image path\n",
    "\n",
    "LSP11314 = \"Y:/cycif-production/16-Pre-Cancer-Atlas-for-Melanoma/PCA_p16_e41_tumor_intrinsic/quantified/LSP11314/registration/LSP11314.ome.tif\"\n",
    "LSP11330 = \"Y:/cycif-production/16-Pre-Cancer-Atlas-for-Melanoma/PCA_p16_e41_tumor_intrinsic/quantified/LSP11330/registration/LSP11330.ome.tif\"\n",
    "LSP11349 = \"Y:/cycif-production/16-Pre-Cancer-Atlas-for-Melanoma/PCA_p16_e41_tumor_intrinsic/quantified/LSP11349/registration/LSP11349.ome.tif\"\n",
    "LSP11354 = \"Y:/cycif-production/16-Pre-Cancer-Atlas-for-Melanoma/PCA_p16_e41_tumor_intrinsic/quantified/LSP11354/registration/LSP11354.ome.tif\"\n",
    "LSP11402 = \"Y:/cycif-production/16-Pre-Cancer-Atlas-for-Melanoma/PCA_p16_e41_tumor_intrinsic/quantified/LSP11402/registration/LSP11402.ome.tif\"\n",
    "LSP11410 = \"Y:/cycif-production/16-Pre-Cancer-Atlas-for-Melanoma/PCA_p16_e41_tumor_intrinsic/quantified/LSP11410/registration/LSP11410.ome.tif\"\n",
    "LSP11522 = \"Y:/cycif-production/16-Pre-Cancer-Atlas-for-Melanoma/PCA_p16_e41_tumor_intrinsic/quantified/LSP11522/registration/LSP11522.ome.tif\"\n",
    "LSP11530 = \"Y:/cycif-production/16-Pre-Cancer-Atlas-for-Melanoma/PCA_p16_e41_tumor_intrinsic/quantified/LSP11530/registration/LSP11530.ome.tif\"\n",
    "LSP11562 = \"Y:/cycif-production/16-Pre-Cancer-Atlas-for-Melanoma/PCA_p16_e41_tumor_intrinsic/quantified/LSP11562/registration/LSP11562.ome.tif\"\n",
    "LSP11634 = \"Y:/cycif-production/16-Pre-Cancer-Atlas-for-Melanoma/PCA_p16_e41_tumor_intrinsic/quantified/LSP11634/registration/LSP11634.ome.tif\"\n",
    "LSP11706 = \"Y:/cycif-production/16-Pre-Cancer-Atlas-for-Melanoma/PCA_p16_e41_tumor_intrinsic/quantified/LSP11706/registration/LSP11706.ome.tif\"\n",
    "LSP11754 = \"Y:/cycif-production/16-Pre-Cancer-Atlas-for-Melanoma/PCA_p16_e41_tumor_intrinsic/quantified/LSP11754/registration/LSP11754.ome.tif\"\n",
    "LSP11778 = \"Y:/cycif-production/16-Pre-Cancer-Atlas-for-Melanoma/PCA_p16_e41_tumor_intrinsic/quantified/LSP11778/registration/LSP11778.ome.tif\"\n",
    "LSP11786 = \"Y:/cycif-production/16-Pre-Cancer-Atlas-for-Melanoma/PCA_p16_e41_tumor_intrinsic/quantified/LSP11786/registration/LSP11786.ome.tif\"\n",
    "LSP11373 = \"Y:/cycif-production/16-Pre-Cancer-Atlas-for-Melanoma/PCA_p16_e41_tumor_intrinsic/quantified/LSP11373/registration/LSP11373.ome.tif\"\n",
    "LSP11450 = \"Y:/cycif-production/16-Pre-Cancer-Atlas-for-Melanoma/PCA_p16_e41_tumor_intrinsic/quantified/LSP11450/registration/LSP11450.ome.tif\"\n",
    "LSP11474 = \"Y:/cycif-production/16-Pre-Cancer-Atlas-for-Melanoma/PCA_p16_e41_tumor_intrinsic/quantified/LSP11474/registration/LSP11474.ome.tif\"\n",
    "LSP11482 = \"Y:/cycif-production/16-Pre-Cancer-Atlas-for-Melanoma/PCA_p16_e41_tumor_intrinsic/quantified/LSP11482/registration/LSP11482.ome.tif\"\n",
    "LSP11490 = \"Y:/cycif-production/16-Pre-Cancer-Atlas-for-Melanoma/PCA_p16_e41_tumor_intrinsic/quantified/LSP11490/registration/LSP11490.ome.tif\"\n",
    "LSP11498 = \"Y:/cycif-production/16-Pre-Cancer-Atlas-for-Melanoma/PCA_p16_e41_tumor_intrinsic/quantified/LSP11498/registration/LSP11498.ome.tif\"\n",
    "LSP11618 = \"Y:/cycif-production/16-Pre-Cancer-Atlas-for-Melanoma/PCA_p16_e41_tumor_intrinsic/quantified/LSP11618/registration/LSP11618.ome.tif\"\n",
    "LSP11642 = \"Y:/cycif-production/16-Pre-Cancer-Atlas-for-Melanoma/PCA_p16_e41_tumor_intrinsic/quantified/LSP11642/registration/LSP11642.ome.tif\"\n",
    "LSP11658 = \"Y:/cycif-production/16-Pre-Cancer-Atlas-for-Melanoma/PCA_p16_e41_tumor_intrinsic/quantified/LSP11658/registration/LSP11658.ome.tif\"\n",
    "LSP11698 = \"Y:/cycif-production/16-Pre-Cancer-Atlas-for-Melanoma/PCA_p16_e41_tumor_intrinsic/quantified/LSP11698/registration/LSP11698.ome.tif\"\n",
    "LSP12424 = \"Y:/cycif-production/16-Pre-Cancer-Atlas-for-Melanoma/PCA_p16_e41_tumor_intrinsic/quantified/LSP12424/registration/LSP12424.ome.tif\""
   ]
  },
  {
   "cell_type": "code",
   "execution_count": 49,
   "id": "6700a32c-2dd9-406d-995b-22cca6dbfcb1",
   "metadata": {},
   "outputs": [],
   "source": [
    "all_markers = ['DNA1','5hmC','Tet2','SOX10','DNA2','LaminA/C/B1','GATA3','PMEL','DNA3','SOX9','S100B','MART1','aSMA','DNA4','MITF','CD63','p21','panCK','DNA5','ECAD','pSTAT1','MCM2','S100A1','DNA6','Ki67','pSTAT3','PD1','pH3','DNA7','PRAME','IRF5','IRF1','B2M','DNA8','MX1','CD11c','NGFR','CK14','DNA9','LDH','pERK','BCL2','VIM','DNA10','CD3e','SOX2','MCL1','pS6','DNA11','CCND1','CCNA2','PDL1','PCNA','DNA12','p16/CDKN2A','SOX6','HIF1a','H3k27me3']\n",
    "\n",
    "sm.pl.image_viewer(image_path = LSP11402, adata=adata, overlay='MART1pos', \n",
    "                   channel_names=all_markers, x_coordinate='X_centroid', y_coordinate='Y_centroid', \n",
    "                   point_size=10, subset='LSP11402')"
   ]
  },
  {
   "cell_type": "code",
   "execution_count": null,
   "id": "b6f8431c-8cfa-40ae-a3e3-6bf0721b9a31",
   "metadata": {},
   "outputs": [],
   "source": []
  },
  {
   "cell_type": "code",
   "execution_count": null,
   "id": "44d6341b-f3b6-48c3-ac8f-d97803837060",
   "metadata": {},
   "outputs": [],
   "source": []
  },
  {
   "cell_type": "code",
   "execution_count": null,
   "id": "507449c6-0c36-4199-a7aa-b68d43a01100",
   "metadata": {},
   "outputs": [],
   "source": []
  },
  {
   "cell_type": "code",
   "execution_count": null,
   "id": "bbf88f35-8f6f-4c7e-ad76-23506b5e6272",
   "metadata": {},
   "outputs": [],
   "source": []
  },
  {
   "cell_type": "code",
   "execution_count": null,
   "id": "c1077722-e4f4-4a62-be9a-f9915113f021",
   "metadata": {},
   "outputs": [],
   "source": []
  },
  {
   "cell_type": "code",
   "execution_count": 8,
   "id": "85a30b65-b805-4344-8636-124580434251",
   "metadata": {},
   "outputs": [
    {
     "data": {
      "image/png": "[encoded data removed]",
      "text/plain": [
       "<Figure size 1000x200 with 1 Axes>"
      ]
     },
     "metadata": {},
     "output_type": "display_data"
    }
   ],
   "source": [
    "y=['MART1-','MART1+']\n",
    "b=sm.pl.stacked_barplot(adata, y_axis='MART1pos', x_axis='ROI', \n",
    "                      subset_xaxis=None, subset_yaxis=y, order_xaxis=None, order_yaxis=y, \n",
    "                      method='absolute', figsize=(10,2), return_data=True)\n",
    "b.to_csv(r\"C:\\Users\\tav9\\Dropbox (HMS)\\test\\MART1pos_GeoMX_ROIs_absolute_e41.csv\")\n",
    "b=pd.read_csv(r\"C:\\Users\\tav9\\Dropbox (HMS)\\test\\MART1pos_GeoMX_ROIs_absolute_e41.csv\")"
   ]
  },
  {
   "cell_type": "code",
   "execution_count": 13,
   "id": "c509e657-93a2-4d0d-9dd7-2b50d2e7c874",
   "metadata": {},
   "outputs": [
    {
     "data": {
      "text/plain": [
       "phenotype\n",
       "Unknown            169169\n",
       "Melanocytes        168407\n",
       "Keratinocytes      156508\n",
       "T cells            139716\n",
       "Myeloid lineage     90649\n",
       "Myofibroblasts      18935\n",
       "Name: count, dtype: int64"
      ]
     },
     "execution_count": 13,
     "metadata": {},
     "output_type": "execute_result"
    }
   ],
   "source": [
    "adata.obs.phenotype.value_counts()"
   ]
  },
  {
   "cell_type": "code",
   "execution_count": 14,
   "id": "35698bfe-afba-4896-b408-54b4c50f94f8",
   "metadata": {},
   "outputs": [
    {
     "name": "stdout",
     "output_type": "stream",
     "text": [
      "                                  marker_expression      geomx_ID\n",
      "LSP11314--unmicst_cellRing_21780           0.080150  LSP13947_001\n",
      "LSP11314--unmicst_cellRing_21845           0.677760  LSP13947_001\n",
      "LSP11314--unmicst_cellRing_21896           0.600498  LSP13947_001\n",
      "LSP11314--unmicst_cellRing_21909           0.610724  LSP13947_001\n",
      "LSP11314--unmicst_cellRing_21966           0.683444  LSP13947_001\n",
      "...                                             ...           ...\n",
      "LSP11658--unmicst_cellRing_57195           0.513892  LSP13968_005\n",
      "LSP11658--unmicst_cellRing_57197           0.272173  LSP13968_005\n",
      "LSP11658--unmicst_cellRing_57205           0.640258  LSP13968_005\n",
      "LSP11658--unmicst_cellRing_57206           0.333340  LSP13968_005\n",
      "LSP11658--unmicst_cellRing_57221           0.329926  LSP13968_005\n",
      "\n",
      "[64417 rows x 2 columns]\n",
      "         geomx_ID  marker_expression\n",
      "0    LSP11635_001           0.371348\n",
      "1    LSP11635_002           0.367826\n",
      "2    LSP11635_003           0.672106\n",
      "3    LSP11635_004           0.687931\n",
      "4    LSP11635_005           0.619158\n",
      "..            ...                ...\n",
      "202  LSP13996_004           0.498977\n",
      "203  LSP13996_005           0.696926\n",
      "204  LSP13996_006           0.057984\n",
      "205  LSP13996_007           0.127210\n",
      "206  LSP13996_008           0.453548\n",
      "\n",
      "[207 rows x 2 columns]\n"
     ]
    },
    {
     "name": "stderr",
     "output_type": "stream",
     "text": [
      "C:\\Users\\tav9\\AppData\\Local\\Temp\\ipykernel_35192\\1389051309.py:12: FutureWarning:\n",
      "\n",
      "The default of observed=False is deprecated and will be changed to True in a future version of pandas. Pass observed=False to retain current behavior or observed=True to adopt the future default and silence this warning.\n",
      "\n"
     ]
    }
   ],
   "source": [
    "#mean MART1 intensity in tumor cells /geomx ROI\n",
    "\n",
    "group = ['Melanocytes']\n",
    "adata_tumor=adata[(adata.obs['phenotype'].isin(group))]\n",
    "\n",
    "group = ['LSP11635_001','LSP11635_002','LSP11635_003','LSP11635_004','LSP11635_005','LSP11635_006','LSP11635_007','LSP11635_008','LSP11635_009','LSP11635_011','LSP11635_012','LSP11635_013','LSP11635_032','LSP13135_012','LSP13135_013','LSP13135_014','LSP13135_015','LSP13135_016','LSP13135_020','LSP13135_021','LSP13135_022','LSP13135_023','LSP13135_024','LSP13135_025','LSP13135_026','LSP13135_027','LSP13135_028','LSP13135_029','LSP13135_030','LSP13135_031','LSP13135_032','LSP13135_033','LSP13135_035','LSP13135_037','LSP13135_038','LSP13135_039','LSP13135_040','LSP13135_041','LSP13135_042','LSP13135_043','LSP13135_044','LSP13135_045','LSP13145_006','LSP13145_007','LSP13145_008','LSP13145_009','LSP13145_010','LSP13145_011','LSP13145_012','LSP13145_013','LSP13145_014','LSP13145_015','LSP13145_030','LSP13145_031','LSP13145_032','LSP13145_041','LSP13145_042','LSP13145_044','LSP13145_046','LSP13145_049','LSP13145_050','LSP13145_054','LSP13145_059','LSP13145_060','LSP13145_061','LSP13145_062','LSP13145_063','LSP13145_064','LSP13145_065','LSP13145__036','LSP13155_001','LSP13155_002','LSP13155_004','LSP13155_010','LSP13155_019','LSP13155_020','LSP13155_021','LSP13155_022','LSP13155_024','LSP13155_025','LSP13155_026','LSP13155_028','LSP13160_001','LSP13160_002','LSP13160_003','LSP13160_004','LSP13160_005','LSP13160_006','LSP13160_007','LSP13165_021','LSP13165_022','LSP13165_023','LSP13165_024','LSP13165_025','LSP13165_026','LSP13165_027','LSP13165_028','LSP13165_029','LSP13165_030','LSP13165_031','LSP13165_032','LSP13165_033','LSP13165_035','LSP13165_036','LSP13165_037','LSP13165_041','LSP13170_021','LSP13170_022','LSP13170_023','LSP13170_024','LSP13170_025','LSP13170_026','LSP13170_027','LSP13170_028','LSP13170_029','LSP13170_030','LSP13170_031','LSP13170_032','LSP13170_033','LSP13170_034','LSP13170_035','LSP13170_036','LSP13925_001','LSP13925_002','LSP13925_003','LSP13925_004','LSP13925_005','LSP13925_006','LSP13925_007','LSP13925_008','LSP13925_009','LSP13925_011','LSP13925_013','LSP13925_014','LSP13925_015','LSP13925_016','LSP13925_017','LSP13925_018','LSP13925_019','LSP13925_021','LSP13925_022','LSP13925_023','LSP13925_024','LSP13925_025','LSP13925_026','LSP13925_027','LSP13925_028','LSP13925_029','LSP13925_030','LSP13932_017','LSP13932_018','LSP13932_019','LSP13932_020','LSP13947_001','LSP13947_003','LSP13947_004','LSP13947_005','LSP13947_006','LSP13947_007','LSP13947_008','LSP13947_009','LSP13947_010','LSP13947_013','LSP13947_014','LSP13947_016','LSP13947_017','LSP13947_018','LSP13968_002','LSP13968_003','LSP13968_004','LSP13968_005','LSP13968_006','LSP13968_007','LSP13968_008','LSP13968_009','LSP13968_010','LSP13968_011','LSP13968_012','LSP13968_014','LSP13968_015','LSP13968_016','LSP13968_017','LSP13968_018','LSP13968_019','LSP13968_020','LSP13968_021','LSP13968_022','LSP13968_025','LSP13968_026','LSP13968_027','LSP13968_028','LSP13968_030','LSP13968_031','LSP13968_032','LSP13968_035','LSP13987_001','LSP13987_002','LSP13987_006','LSP13987_016','LSP13996_001','LSP13996_002','LSP13996_003','LSP13996_004','LSP13996_005','LSP13996_006','LSP13996_007','LSP13996_008']\n",
    "adata_geomx=adata_tumor[(adata_tumor.obs['ROI'].isin(group))]\n",
    "\n",
    "marker_expression = adata_geomx.X[:, adata_geomx.var.index == \"MART1\"].squeeze()\n",
    "geomx_data = adata_geomx.obs[\"ROI\"]\n",
    "df = pd.DataFrame({\"marker_expression\": marker_expression, \"geomx_ID\": geomx_data})\n",
    "print(df)\n",
    "\n",
    "result = df.groupby(\"geomx_ID\").agg({\"marker_expression\": \"mean\"}).reset_index()\n",
    "print(result)\n",
    "result.to_csv(r\"C:\\Users\\tav9\\Dropbox (HMS)\\test\\MART1_mean_intensity_GeoMX_ROIs_e41.csv\")"
   ]
  },
  {
   "cell_type": "code",
   "execution_count": 15,
   "id": "342348d4-efbc-4851-895a-e4d4f79b67dc",
   "metadata": {},
   "outputs": [
    {
     "data": {
      "text/plain": [
       "View of AnnData object with n_obs × n_vars = 64417 × 42\n",
       "    obs: 'X_centroid', 'Y_centroid', 'Area', 'MajorAxisLength', 'MinorAxisLength', 'Eccentricity', 'Solidity', 'Extent', 'Orientation', 'CellID', 'imageid', 'ROI', 'ROI_major_category', 'phenotype', 'MEL_id', 'B2Mpos', 'ROI_rename', 'MART1pos'\n",
       "    uns: 'all_markers', 'gates', 'spatial_distance'"
      ]
     },
     "execution_count": 15,
     "metadata": {},
     "output_type": "execute_result"
    }
   ],
   "source": [
    "adata_geomx"
   ]
  },
  {
   "cell_type": "code",
   "execution_count": null,
   "id": "ed64e297-e23d-4eed-98f7-d43aaa6cc16c",
   "metadata": {},
   "outputs": [],
   "source": []
  }
 ],
 "metadata": {
  "kernelspec": {
   "display_name": "Python 3 (ipykernel)",
   "language": "python",
   "name": "python3"
  },
  "language_info": {
   "codemirror_mode": {
    "name": "ipython",
    "version": 3
   },
   "file_extension": ".py",
   "mimetype": "text/x-python",
   "name": "python",
   "nbconvert_exporter": "python",
   "pygments_lexer": "ipython3",
   "version": "3.10.14"
  }
 },
 "nbformat": 4,
 "nbformat_minor": 5
}
