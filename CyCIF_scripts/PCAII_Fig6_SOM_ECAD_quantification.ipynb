{
 "cells": [
  {
   "cell_type": "code",
   "execution_count": null,
   "id": "bc628b9a-46c8-4ca8-9f88-d3529881b4a3",
   "metadata": {},
   "outputs": [],
   "source": [
    "# This notebook was generated for PCA II paper (Vallius& Shi et al. 2025) on 5/29/2025\n",
    "# Use for Fig 5 ECAD loss in Branch 1"
   ]
  },
  {
   "cell_type": "code",
   "execution_count": 1,
   "id": "39856373-d48d-449f-94d3-d1fc3125310c",
   "metadata": {},
   "outputs": [
    {
     "name": "stdout",
     "output_type": "stream",
     "text": [
      "Running SCIMAP  2.1.0\n"
     ]
    }
   ],
   "source": [
    "import sys\n",
    "import os\n",
    "import anndata as ad\n",
    "import pandas as pd\n",
    "import scanpy as sc\n",
    "import re\n",
    "import numpy as np\n",
    "import seaborn as sns; sns.set(color_codes=True)\n",
    "import scimap as sm  \n",
    "from matplotlib import pyplot as plt\n",
    "from matplotlib.patches import Patch\n",
    "from scipy.stats import pearsonr\n",
    "\n",
    "#set current directory\n",
    "os.chdir(\"C:/Users/tav9/Dropbox (HMS)/PCA_phaseII/cycif_analysis_materials\")\n",
    "import napari"
   ]
  },
  {
   "cell_type": "code",
   "execution_count": 10,
   "id": "52655951-a940-4a50-a6cd-3e41ad25c7ad",
   "metadata": {},
   "outputs": [
    {
     "name": "stderr",
     "output_type": "stream",
     "text": [
      "C:\\Users\\tav9\\AppData\\Local\\anaconda3\\envs\\scimap_new\\lib\\site-packages\\anndata\\__init__.py:55: FutureWarning:\n",
      "\n",
      "`anndata.read` is deprecated, use `anndata.read_h5ad` instead. `ad.read` will be removed in mid 2024.\n",
      "\n"
     ]
    }
   ],
   "source": [
    "adata=ad.read(\"C:/Users/tav9/Dropbox (HMS)/PCA_phaseII/cycif_analysis_materials/data_e41/e41_cy8_06032024.h5ad\")"
   ]
  },
  {
   "cell_type": "code",
   "execution_count": 11,
   "id": "ca2cdf6c-e4d5-405b-a2fd-7561dc899a57",
   "metadata": {},
   "outputs": [
    {
     "data": {
      "text/plain": [
       "AnnData object with n_obs × n_vars = 2066157 × 33\n",
       "    obs: 'X_centroid', 'Y_centroid', 'Area', 'MajorAxisLength', 'MinorAxisLength', 'Eccentricity', 'Solidity', 'Extent', 'Orientation', 'CellID', 'imageid', 'batch', 'ROI', 'LOSE', 'ROI_major_category', 'ROI_TV', 'phenotype'\n",
       "    uns: 'all_markers'\n",
       "    layers: 'log'"
      ]
     },
     "execution_count": 11,
     "metadata": {},
     "output_type": "execute_result"
    }
   ],
   "source": [
    "adata"
   ]
  },
  {
   "cell_type": "code",
   "execution_count": 12,
   "id": "bcc987ca-77e3-4ca0-b304-37e834578360",
   "metadata": {},
   "outputs": [],
   "source": [
    "#add the HIST ROI info to each sample\n",
    "\n",
    "roi1 = pd.read_csv(\"C:/Users/tav9/Dropbox (HMS)/PCA_phaseII/cycif_analysis_materials/adata_initialization_e41/GeoMx_AOI_coordinates/LSP11314.ome.tif-1728302-rois.csv\")\n",
    "adata=sm.hl.addROI_omero(adata, roi1, label='ROI', subset='LSP11314')\n",
    "\n",
    "roi2 = pd.read_csv(\"C:/Users/tav9/Dropbox (HMS)/PCA_phaseII/cycif_analysis_materials/adata_initialization_e41/GeoMx_AOI_coordinates/LSP11330.ome.tif-1728668-rois.csv\")\n",
    "adata=sm.hl.addROI_omero(adata, roi2, label='ROI', subset='LSP11330', overwrite=False)\n",
    "\n",
    "roi3 = pd.read_csv(\"C:/Users/tav9/Dropbox (HMS)/PCA_phaseII/cycif_analysis_materials/adata_initialization_e41/GeoMx_AOI_coordinates/LSP11349.ome.tif-1728070-rois.csv\")\n",
    "adata=sm.hl.addROI_omero(adata, roi3, label='ROI', subset='LSP11349', overwrite=False)\n",
    "\n",
    "roi4 = pd.read_csv(\"C:/Users/tav9/Dropbox (HMS)/PCA_phaseII/cycif_analysis_materials/adata_initialization_e41/GeoMx_AOI_coordinates/LSP11354.ome.tif-1728670-rois.csv\")\n",
    "adata=sm.hl.addROI_omero(adata, roi4, label='ROI', subset='LSP11354', overwrite=False)\n",
    "\n",
    "roi5 = pd.read_csv(\"C:/Users/tav9/Dropbox (HMS)/PCA_phaseII/cycif_analysis_materials/adata_initialization_e41/GeoMx_AOI_coordinates/LSP11402.ome.tif-1732995-rois.csv\")\n",
    "adata=sm.hl.addROI_omero(adata, roi5, label='ROI', subset='LSP11402', overwrite=False)\n",
    "\n",
    "roi6 = pd.read_csv(\"C:/Users/tav9/Dropbox (HMS)/PCA_phaseII/cycif_analysis_materials/adata_initialization_e41/GeoMx_AOI_coordinates/LSP11410.ome.tif-1728090-rois.csv\")\n",
    "adata=sm.hl.addROI_omero(adata, roi6, label='ROI', subset='LSP11410', overwrite=False)\n",
    "\n",
    "roi7 = pd.read_csv(\"C:/Users/tav9/Dropbox (HMS)/PCA_phaseII/cycif_analysis_materials/adata_initialization_e41/GeoMx_AOI_coordinates/LSP11522.ome.tif-1728678-rois.csv\")\n",
    "adata=sm.hl.addROI_omero(adata, roi7, label='ROI', subset='LSP11522', overwrite=False)\n",
    "\n",
    "roi8 = pd.read_csv(\"C:/Users/tav9/Dropbox (HMS)/PCA_phaseII/cycif_analysis_materials/adata_initialization_e41/GeoMx_AOI_coordinates/LSP11530.ome.tif-1728681-rois.csv\")\n",
    "adata=sm.hl.addROI_omero(adata, roi8, label='ROI', subset='LSP11530', overwrite=False)\n",
    "\n",
    "roi9 = pd.read_csv(\"C:/Users/tav9/Dropbox (HMS)/PCA_phaseII/cycif_analysis_materials/adata_initialization_e41/GeoMx_AOI_coordinates/LSP11562.ome.tif-1728687-rois.csv\")\n",
    "adata=sm.hl.addROI_omero(adata, roi9, label='ROI', subset='LSP11562', overwrite=False)\n",
    "\n",
    "roi10 = pd.read_csv(\"C:/Users/tav9/Dropbox (HMS)/PCA_phaseII/cycif_analysis_materials/adata_initialization_e41/GeoMx_AOI_coordinates/LSP11634.ome.tif-1728381-rois.csv\")\n",
    "adata=sm.hl.addROI_omero(adata, roi10, label='ROI', subset='LSP11634', overwrite=False)\n",
    "\n",
    "roi13 = pd.read_csv(\"C:/Users/tav9/Dropbox (HMS)/PCA_phaseII/cycif_analysis_materials/adata_initialization_e41/GeoMx_AOI_coordinates/LSP11778.ome.tif-1728370-rois.csv\")\n",
    "adata=sm.hl.addROI_omero(adata, roi13, label='ROI', subset='LSP11778', overwrite=False)\n",
    "\n",
    "roi14 = pd.read_csv(\"C:/Users/tav9/Dropbox (HMS)/PCA_phaseII/cycif_analysis_materials/adata_initialization_e41/GeoMx_AOI_coordinates/LSP11786.ome.tif-1728371-rois.csv\")\n",
    "adata=sm.hl.addROI_omero(adata, roi14, label='ROI', subset='LSP11786', overwrite=False)\n",
    "\n",
    "roi15 = pd.read_csv(\"C:/Users/tav9/Dropbox (HMS)/PCA_phaseII/cycif_analysis_materials/adata_initialization_e41/GeoMx_AOI_coordinates/LSP11373.ome.tif-1728672-rois.csv\")\n",
    "adata=sm.hl.addROI_omero(adata, roi15, label='ROI', subset='LSP11373', overwrite=False)\n",
    "\n",
    "roi17 = pd.read_csv(\"C:/Users/tav9/Dropbox (HMS)/PCA_phaseII/cycif_analysis_materials/adata_initialization_e41/GeoMx_AOI_coordinates/LSP11474.ome.tif-1728154-rois.csv\")\n",
    "adata=sm.hl.addROI_omero(adata, roi17, label='ROI', subset='LSP11474', overwrite=False)\n",
    "\n",
    "roi22 = pd.read_csv(\"C:/Users/tav9/Dropbox (HMS)/PCA_phaseII/cycif_analysis_materials/adata_initialization_e41/GeoMx_AOI_coordinates/LSP11642.ome.tif-1728387-rois.csv\")\n",
    "adata=sm.hl.addROI_omero(adata, roi22, label='ROI', subset='LSP11642', overwrite=False)\n",
    "\n",
    "roi23 = pd.read_csv(\"C:/Users/tav9/Dropbox (HMS)/PCA_phaseII/cycif_analysis_materials/adata_initialization_e41/GeoMx_AOI_coordinates/LSP11658.ome.tif-1728360-rois.csv\")\n",
    "adata=sm.hl.addROI_omero(adata, roi23, label='ROI', subset='LSP11658', overwrite=False)"
   ]
  },
  {
   "cell_type": "code",
   "execution_count": 13,
   "id": "3cc33d5a-e4d4-4930-89c1-5c9d811aad81",
   "metadata": {},
   "outputs": [],
   "source": [
    "roi2 = pd.read_csv(\"C:/Users/tav9/Dropbox (HMS)/PCA_phaseII/cycif_analysis_materials/adata_initialization_e41/GeoMx_AOI_coordinates/LSP17170_new.ome.tif-1777794-rois.csv\")\n",
    "adata=sm.hl.addROI_omero(adata, roi2, label='ROI', subset='LSP17170', overwrite=False)\n",
    "\n",
    "roi2 = pd.read_csv(\"C:/Users/tav9/Dropbox (HMS)/PCA_phaseII/cycif_analysis_materials/adata_initialization_e41/GeoMx_AOI_coordinates/LSP11386.ome.tif-1733017-rois.csv\")\n",
    "adata=sm.hl.addROI_omero(adata, roi2, label='ROI', subset='LSP11386', overwrite=False)\n",
    "\n",
    "roi2 = pd.read_csv(\"C:/Users/tav9/Dropbox (HMS)/PCA_phaseII/cycif_analysis_materials/adata_initialization_e41/GeoMx_AOI_coordinates/LSP11418.ome.tif-1728115-rois_v2.csv\")\n",
    "adata=sm.hl.addROI_omero(adata, roi2, label='ROI', subset='LSP11418', overwrite=False)\n",
    "\n",
    "roi2 = pd.read_csv(\"C:/Users/tav9/Dropbox (HMS)/PCA_phaseII/cycif_analysis_materials/adata_initialization_e41/GeoMx_AOI_coordinates/LSP11458.ome.tif-1728152-rois.csv\")\n",
    "adata=sm.hl.addROI_omero(adata, roi2, label='ROI', subset='LSP11458', overwrite=False)\n",
    "\n",
    "roi2 = pd.read_csv(\"C:/Users/tav9/Dropbox (HMS)/PCA_phaseII/cycif_analysis_materials/adata_initialization_e41/GeoMx_AOI_coordinates/LSP11466.ome.tif-1728153-rois.csv\")\n",
    "adata=sm.hl.addROI_omero(adata, roi2, label='ROI', subset='LSP11466', overwrite=False)\n",
    "\n",
    "roi2 = pd.read_csv(\"C:/Users/tav9/Dropbox (HMS)/PCA_phaseII/cycif_analysis_materials/adata_initialization_e41/GeoMx_AOI_coordinates/LSP11546.ome.tif-1728686-rois.csv\")\n",
    "adata=sm.hl.addROI_omero(adata, roi2, label='ROI', subset='LSP11546', overwrite=False)\n",
    "\n",
    "roi2 = pd.read_csv(\"C:/Users/tav9/Dropbox (HMS)/PCA_phaseII/cycif_analysis_materials/adata_initialization_e41/GeoMx_AOI_coordinates/LSP11586.ome.tif-1728691-rois.csv\")\n",
    "adata=sm.hl.addROI_omero(adata, roi2, label='ROI', subset='LSP11586', overwrite=False)\n",
    "\n",
    "roi2 = pd.read_csv(\"C:/Users/tav9/Dropbox (HMS)/PCA_phaseII/cycif_analysis_materials/adata_initialization_e41/GeoMx_AOI_coordinates/LSP11594.ome.tif-1728693-rois.csv\")\n",
    "adata=sm.hl.addROI_omero(adata, roi2, label='ROI', subset='LSP11594', overwrite=False)\n",
    "\n",
    "roi2 = pd.read_csv(\"C:/Users/tav9/Dropbox (HMS)/PCA_phaseII/cycif_analysis_materials/adata_initialization_e41/GeoMx_AOI_coordinates/LSP11602.ome.tif-1728348-rois.csv\")\n",
    "adata=sm.hl.addROI_omero(adata, roi2, label='ROI', subset='LSP11602', overwrite=False)\n",
    "\n",
    "roi2 = pd.read_csv(\"C:/Users/tav9/Dropbox (HMS)/PCA_phaseII/cycif_analysis_materials/adata_initialization_e41/GeoMx_AOI_coordinates/LSP11658.ome.tif-1728360-rois.csv\")\n",
    "adata=sm.hl.addROI_omero(adata, roi2, label='ROI', subset='LSP11658', overwrite=False)\n",
    "\n",
    "roi2 = pd.read_csv(\"C:/Users/tav9/Dropbox (HMS)/PCA_phaseII/cycif_analysis_materials/adata_initialization_e41/GeoMx_AOI_coordinates/LSP11738.ome.tif-1728366-rois.csv\")\n",
    "adata=sm.hl.addROI_omero(adata, roi2, label='ROI', subset='LSP11738', overwrite=False)\n",
    "\n",
    "roi2 = pd.read_csv(\"C:/Users/tav9/Dropbox (HMS)/PCA_phaseII/cycif_analysis_materials/adata_initialization_e41/GeoMx_AOI_coordinates/LSP11770.ome.tif-1728369-rois.csv\")\n",
    "adata=sm.hl.addROI_omero(adata, roi2, label='ROI', subset='LSP11770', overwrite=False)\n",
    "\n",
    "roi2 = pd.read_csv(\"C:/Users/tav9/Dropbox (HMS)/PCA_phaseII/cycif_analysis_materials/adata_initialization_e41/GeoMx_AOI_coordinates/LSP11778.ome.tif-1728370-rois.csv\")\n",
    "adata=sm.hl.addROI_omero(adata, roi2, label='ROI', subset='LSP11778', overwrite=False)\n",
    "\n",
    "roi2 = pd.read_csv(\"C:/Users/tav9/Dropbox (HMS)/PCA_phaseII/cycif_analysis_materials/adata_initialization_e41/GeoMx_AOI_coordinates/LSP11786.ome.tif-1728371-rois.csv\")\n",
    "adata=sm.hl.addROI_omero(adata, roi2, label='ROI', subset='LSP11786', overwrite=False)"
   ]
  },
  {
   "cell_type": "code",
   "execution_count": 14,
   "id": "b18db4d0-005d-4969-8bad-8de3098545aa",
   "metadata": {},
   "outputs": [
    {
     "data": {
      "text/plain": [
       "ROI\n",
       "Other           1740869\n",
       "LSP13160_001       3672\n",
       "LSP13914_010       3536\n",
       "LSP13160_006       3247\n",
       "LSP13150_019       3185\n",
       "                 ...   \n",
       "LSP13918_004         86\n",
       "LSP13918_001         81\n",
       "LSP13987_013         62\n",
       "LSP13918_002         48\n",
       "LSP13987_003         25\n",
       "Name: count, Length: 321, dtype: int64"
      ]
     },
     "execution_count": 14,
     "metadata": {},
     "output_type": "execute_result"
    }
   ],
   "source": [
    "adata.obs.ROI.value_counts()"
   ]
  },
  {
   "cell_type": "code",
   "execution_count": 46,
   "id": "16fa1caa-53c9-4169-92c0-7db75584617f",
   "metadata": {},
   "outputs": [
    {
     "data": {
      "text/plain": [
       "SOM_branch_ID\n",
       "Other           1740869\n",
       "branch1           58976\n",
       "branch3           29579\n",
       "branch2           11400\n",
       "LSP13160_001       3672\n",
       "                 ...   \n",
       "LSP13968_011        220\n",
       "LSP13155_006        104\n",
       "LSP13918_004         86\n",
       "LSP13918_001         81\n",
       "LSP13918_002         48\n",
       "Name: count, Length: 238, dtype: int64"
      ]
     },
     "execution_count": 46,
     "metadata": {},
     "output_type": "execute_result"
    }
   ],
   "source": [
    "adata.obs.SOM_branch_ID.value_counts()"
   ]
  },
  {
   "cell_type": "code",
   "execution_count": 15,
   "id": "d6ec6e97-bc57-40b1-9f02-0f2454309dfe",
   "metadata": {
    "scrolled": true
   },
   "outputs": [
    {
     "name": "stdout",
     "output_type": "stream",
     "text": [
      "Renaming LSP13987_011 to branch1\n",
      "Renaming LSP13987_012 to branch1\n",
      "Renaming LSP13987_013 to branch1\n",
      "Renaming LSP13987_014 to branch1\n",
      "Renaming LSP13987_016 to branch1\n",
      "Renaming LSP13987_017 to branch1\n",
      "Renaming LSP13968_003 to branch1\n",
      "Renaming LSP13968_004 to branch1\n",
      "Renaming LSP13968_005 to branch1\n",
      "Renaming LSP13968_007 to branch1\n",
      "Renaming LSP13968_009 to branch1\n",
      "Renaming LSP13968_010 to branch1\n",
      "Renaming LSP13968_012 to branch1\n",
      "Renaming LSP13968_019 to branch1\n",
      "Renaming LSP13968_030 to branch1\n",
      "Renaming LSP13968_036 to branch1\n",
      "Renaming LSP13968_037 to branch1\n",
      "Renaming LSP13975_015 to branch1\n",
      "Renaming LSP13975_023 to branch1\n",
      "Renaming LSP13975_024 to branch1\n",
      "Renaming LSP13975_028 to branch1\n",
      "Renaming LSP13975_029 to branch1\n",
      "Renaming LSP13975_030 to branch1\n",
      "Renaming LSP13975_031 to branch1\n",
      "Renaming LSP13987_001 to branch1\n",
      "Renaming LSP13987_002 to branch1\n",
      "Renaming LSP13987_003 to branch1\n",
      "Renaming LSP13987_004 to branch1\n",
      "Renaming LSP13987_005 to branch1\n",
      "Renaming LSP13987_006 to branch1\n",
      "Renaming LSP13987_007 to branch1\n",
      "Renaming LSP13987_008 to branch1\n",
      "Renaming LSP13987_009 to branch1\n",
      "Renaming LSP13987_010 to branch1\n",
      "Renaming LSP13939_023 to branch1\n",
      "Renaming LSP13939_024 to branch1\n",
      "Renaming LSP13939_025 to branch1\n",
      "Renaming LSP13939_026 to branch1\n",
      "Renaming LSP13939_027 to branch1\n",
      "Renaming LSP13939_028 to branch1\n",
      "Renaming LSP13939_029 to branch1\n",
      "Renaming LSP13943_004 to branch1\n",
      "Renaming LSP13932_020 to branch1\n",
      "Renaming LSP13932_023 to branch1\n",
      "Renaming LSP13947_001 to branch1\n",
      "Renaming LSP13947_004 to branch1\n",
      "Renaming LSP13947_005 to branch1\n",
      "Renaming LSP13947_006 to branch1\n",
      "Renaming LSP13947_007 to branch1\n",
      "Renaming LSP13947_008 to branch1\n",
      "Renaming LSP13947_009 to branch1\n",
      "Renaming LSP13947_010 to branch1\n",
      "Renaming LSP13947_014 to branch1\n",
      "Renaming LSP13947_015 to branch1\n",
      "Renaming LSP13947_017 to branch1\n",
      "Renaming LSP13947_018 to branch1\n",
      "Renaming LSP13996_001 to branch1\n",
      "Renaming LSP13996_002 to branch1\n",
      "Renaming LSP13996_003 to branch1\n",
      "Renaming LSP13996_005 to branch1\n",
      "Renaming LSP13985_001 to branch1\n",
      "Renaming LSP13985_002 to branch1\n",
      "Renaming LSP13985_003 to branch1\n",
      "Renaming LSP13985_004 to branch1\n",
      "Renaming LSP13961_023 to branch1\n",
      "Renaming LSP13961_024 to branch1\n",
      "Renaming LSP13961_025 to branch1\n",
      "Renaming LSP13961_028 to branch1\n",
      "Renaming LSP13961_030 to branch1\n",
      "Renaming LSP13961_031 to branch1\n",
      "Renaming LSP13961_032 to branch1\n",
      "Renaming LSP13961_034 to branch1\n",
      "Renaming LSP13914_005 to branch1\n",
      "Renaming LSP13914_006 to branch1\n",
      "Renaming LSP13914_007 to branch1\n",
      "Renaming LSP13914_008 to branch1\n",
      "Renaming LSP13914_009 to branch1\n",
      "Renaming LSP13914_011 to branch1\n",
      "Renaming LSP13914_012 to branch1\n",
      "Renaming LSP13914_014 to branch1\n",
      "Renaming LSP13914_015 to branch1\n",
      "Renaming LSP13914_017 to branch1\n",
      "Renaming LSP13918_006 to branch1\n",
      "Renaming LSP13918_007 to branch1\n",
      "Renaming LSP13918_029 to branch1\n",
      "Renaming LSP13918_041 to branch1\n",
      "Renaming LSP13918_043 to branch1\n",
      "Renaming LSP13918_045 to branch1\n",
      "Renaming LSP13987_015 to branch2\n",
      "Renaming LSP13968_014 to branch2\n",
      "Renaming LSP13968_016 to branch2\n",
      "Renaming LSP13968_020 to branch2\n",
      "Renaming LSP13968_025 to branch2\n",
      "Renaming LSP13968_028 to branch2\n",
      "Renaming LSP13968_039 to branch2\n",
      "Renaming LSP13975_025 to branch2\n",
      "Renaming LSP13975_032 to branch2\n",
      "Renaming LSP13939_020 to branch2\n",
      "Renaming LSP13939_021 to branch2\n",
      "Renaming LSP13939_022 to branch2\n",
      "Renaming LSP13939_031 to branch2\n",
      "Renaming LSP13932_008 to branch2\n",
      "Renaming LSP13932_009 to branch2\n",
      "Renaming LSP13932_017 to branch2\n",
      "Renaming LSP13932_018 to branch2\n",
      "Renaming LSP13932_019 to branch2\n",
      "Renaming LSP13932_022 to branch2\n",
      "Renaming LSP13932_026 to branch2\n",
      "Renaming LSP13932_027 to branch2\n",
      "Renaming LSP13932_028 to branch2\n",
      "Renaming LSP13961_014 to branch2\n",
      "Renaming LSP13961_016 to branch2\n",
      "Renaming LSP13961_017 to branch2\n",
      "Renaming LSP13918_005 to branch2\n",
      "Renaming LSP13918_039 to branch2\n",
      "Renaming LSP13918_040 to branch2\n",
      "Renaming LSP13918_044 to branch2\n",
      "Renaming LSP13968_001 to branch3\n",
      "Renaming LSP13968_002 to branch3\n",
      "Renaming LSP13968_015 to branch3\n",
      "Renaming LSP13968_017 to branch3\n",
      "Renaming LSP13968_027 to branch3\n",
      "Renaming LSP13968_031 to branch3\n",
      "Renaming LSP13968_033 to branch3\n",
      "Renaming LSP13968_034 to branch3\n",
      "Renaming LSP13968_038 to branch3\n",
      "Renaming LSP13975_003 to branch3\n",
      "Renaming LSP13975_008 to branch3\n",
      "Renaming LSP13975_009 to branch3\n",
      "Renaming LSP13975_018 to branch3\n",
      "Renaming LSP13975_020 to branch3\n",
      "Renaming LSP13975_021 to branch3\n",
      "Renaming LSP13975_022 to branch3\n",
      "Renaming LSP13925_005 to branch3\n",
      "Renaming LSP13925_006 to branch3\n",
      "Renaming LSP13925_007 to branch3\n",
      "Renaming LSP13925_008 to branch3\n",
      "Renaming LSP13925_013 to branch3\n",
      "Renaming LSP13925_020 to branch3\n",
      "Renaming LSP13925_021 to branch3\n",
      "Renaming LSP13925_023 to branch3\n",
      "Renaming LSP13925_024 to branch3\n",
      "Renaming LSP13925_025 to branch3\n",
      "Renaming LSP13925_027 to branch3\n",
      "Renaming LSP13925_029 to branch3\n",
      "Renaming LSP13925_030 to branch3\n",
      "Renaming LSP13939_003 to branch3\n",
      "Renaming LSP13939_004 to branch3\n",
      "Renaming LSP13939_005 to branch3\n",
      "Renaming LSP13939_006 to branch3\n",
      "Renaming LSP13939_007 to branch3\n",
      "Renaming LSP13939_008 to branch3\n",
      "Renaming LSP13939_011 to branch3\n",
      "Renaming LSP13939_012 to branch3\n",
      "Renaming LSP13939_014 to branch3\n",
      "Renaming LSP13939_015 to branch3\n",
      "Renaming LSP13939_016 to branch3\n",
      "Renaming LSP13939_018 to branch3\n",
      "Renaming LSP13943_002 to branch3\n",
      "Renaming LSP13943_003 to branch3\n",
      "Renaming LSP13943_005 to branch3\n",
      "Renaming LSP13943_006 to branch3\n",
      "Renaming LSP13943_007 to branch3\n",
      "Renaming LSP13943_008 to branch3\n",
      "Renaming LSP13943_009 to branch3\n",
      "Renaming LSP13943_011 to branch3\n",
      "Renaming LSP13943_012 to branch3\n",
      "Renaming LSP13943_013 to branch3\n",
      "Renaming LSP13943_014 to branch3\n",
      "Renaming LSP13943_015 to branch3\n",
      "Renaming LSP13943_016 to branch3\n",
      "Renaming LSP13932_003 to branch3\n",
      "Renaming LSP13932_004 to branch3\n",
      "Renaming LSP13932_006 to branch3\n",
      "Renaming LSP13996_012 to branch3\n",
      "Renaming LSP13996_013 to branch3\n",
      "Renaming LSP13996_014 to branch3\n",
      "Renaming LSP13996_016 to branch3\n",
      "Renaming LSP13996_017 to branch3\n",
      "Renaming LSP13996_019 to branch3\n",
      "Renaming LSP13996_021 to branch3\n",
      "Renaming LSP13985_008 to branch3\n",
      "Renaming LSP13985_009 to branch3\n",
      "Renaming LSP13985_010 to branch3\n",
      "Renaming LSP13985_012 to branch3\n",
      "Renaming LSP13985_013 to branch3\n",
      "Renaming LSP13985_014 to branch3\n",
      "Renaming LSP13961_004 to branch3\n",
      "Renaming LSP13961_005 to branch3\n",
      "Renaming LSP13961_006 to branch3\n",
      "Renaming LSP13961_007 to branch3\n",
      "Renaming LSP13961_008 to branch3\n",
      "Renaming LSP13961_009 to branch3\n",
      "Renaming LSP13961_010 to branch3\n",
      "Renaming LSP13961_011 to branch3\n",
      "Renaming LSP13961_035 to branch3\n",
      "Renaming LSP13918_028 to branch3\n",
      "Renaming LSP13918_030 to branch3\n",
      "Renaming LSP13918_031 to branch3\n",
      "Renaming LSP13918_035 to branch3\n",
      "Renaming LSP13918_042 to branch3\n",
      "Renaming LSP13954_001 to branch3\n",
      "Renaming LSP13954_002 to branch3\n",
      "Renaming LSP13954_003 to branch3\n",
      "Renaming LSP13954_004 to branch3\n",
      "Renaming LSP13954_005 to branch3\n",
      "Renaming LSP13954_006 to branch3\n",
      "Renaming LSP13954_007 to branch3\n",
      "Renaming LSP13954_008 to branch3\n",
      "Renaming LSP13954_010 to branch3\n",
      "Renaming LSP13954_011 to branch3\n",
      "Renaming LSP13954_012 to branch3\n",
      "Renaming LSP13954_013 to branch3\n",
      "Renaming LSP13954_014 to branch3\n"
     ]
    }
   ],
   "source": [
    "rename={'branch1':['LSP13987_011','LSP13987_012','LSP13987_013','LSP13987_014','LSP13987_016','LSP13987_017','LSP13968_003','LSP13968_004','LSP13968_005','LSP13968_007','LSP13968_009','LSP13968_010','LSP13968_012','LSP13968_019','LSP13968_030','LSP13968_036','LSP13968_037','LSP13975_015','LSP13975_023','LSP13975_024','LSP13975_028','LSP13975_029','LSP13975_030','LSP13975_031','LSP13987_001','LSP13987_002','LSP13987_003','LSP13987_004','LSP13987_005','LSP13987_006','LSP13987_007','LSP13987_008','LSP13987_009','LSP13987_010','LSP13939_023','LSP13939_024','LSP13939_025','LSP13939_026','LSP13939_027','LSP13939_028','LSP13939_029','LSP13943_004','LSP13932_020','LSP13932_023','LSP13947_001','LSP13947_004','LSP13947_005','LSP13947_006','LSP13947_007','LSP13947_008','LSP13947_009','LSP13947_010','LSP13947_014','LSP13947_015','LSP13947_017','LSP13947_018','LSP13996_001','LSP13996_002','LSP13996_003','LSP13996_005','LSP13985_001','LSP13985_002','LSP13985_003','LSP13985_004','LSP13961_023','LSP13961_024','LSP13961_025','LSP13961_028','LSP13961_030','LSP13961_031','LSP13961_032','LSP13961_034','LSP13914_005','LSP13914_006','LSP13914_007','LSP13914_008','LSP13914_009','LSP13914_011','LSP13914_012','LSP13914_014','LSP13914_015','LSP13914_017','LSP13918_006','LSP13918_007','LSP13918_029','LSP13918_041','LSP13918_043','LSP13918_045'],\n",
    "'branch2':['LSP13987_015','LSP13968_014','LSP13968_016','LSP13968_020','LSP13968_025','LSP13968_028','LSP13968_039','LSP13975_025','LSP13975_032','LSP13939_020','LSP13939_021','LSP13939_022','LSP13939_031','LSP13932_008','LSP13932_009','LSP13932_017','LSP13932_018','LSP13932_019','LSP13932_022','LSP13932_026','LSP13932_027','LSP13932_028','LSP13961_014','LSP13961_016','LSP13961_017','LSP13918_005','LSP13918_039','LSP13918_040','LSP13918_044'],\n",
    "'branch3':['LSP13968_001','LSP13968_002','LSP13968_015','LSP13968_017','LSP13968_027','LSP13968_031','LSP13968_033','LSP13968_034','LSP13968_038','LSP13975_003','LSP13975_008','LSP13975_009','LSP13975_018','LSP13975_020','LSP13975_021','LSP13975_022','LSP13925_005','LSP13925_006','LSP13925_007','LSP13925_008','LSP13925_013','LSP13925_020','LSP13925_021','LSP13925_023','LSP13925_024','LSP13925_025','LSP13925_027','LSP13925_029','LSP13925_030','LSP13939_003','LSP13939_004','LSP13939_005','LSP13939_006','LSP13939_007','LSP13939_008','LSP13939_011','LSP13939_012','LSP13939_014','LSP13939_015','LSP13939_016','LSP13939_018','LSP13943_002','LSP13943_003','LSP13943_005','LSP13943_006','LSP13943_007','LSP13943_008','LSP13943_009','LSP13943_011','LSP13943_012','LSP13943_013','LSP13943_014','LSP13943_015','LSP13943_016','LSP13932_003','LSP13932_004','LSP13932_006','LSP13996_012','LSP13996_013','LSP13996_014','LSP13996_016','LSP13996_017','LSP13996_019','LSP13996_021','LSP13985_008','LSP13985_009','LSP13985_010','LSP13985_012','LSP13985_013','LSP13985_014','LSP13961_004','LSP13961_005','LSP13961_006','LSP13961_007','LSP13961_008','LSP13961_009','LSP13961_010','LSP13961_011','LSP13961_035','LSP13918_028','LSP13918_030','LSP13918_031','LSP13918_035','LSP13918_042','LSP13954_001','LSP13954_002','LSP13954_003','LSP13954_004','LSP13954_005','LSP13954_006','LSP13954_007','LSP13954_008','LSP13954_010','LSP13954_011','LSP13954_012','LSP13954_013','LSP13954_014']}\n",
    "\n",
    "adata = sm.hl.rename(adata, rename, from_column='ROI', to_column='SOM_branch_ID')"
   ]
  },
  {
   "cell_type": "code",
   "execution_count": 16,
   "id": "1eeb99d6-bbd6-444e-bf27-e511668a107d",
   "metadata": {},
   "outputs": [
    {
     "data": {
      "text/plain": [
       "AnnData object with n_obs × n_vars = 2066157 × 33\n",
       "    obs: 'X_centroid', 'Y_centroid', 'Area', 'MajorAxisLength', 'MinorAxisLength', 'Eccentricity', 'Solidity', 'Extent', 'Orientation', 'CellID', 'imageid', 'batch', 'ROI', 'LOSE', 'ROI_major_category', 'ROI_TV', 'phenotype', 'SOM_branch_ID'\n",
       "    uns: 'all_markers'\n",
       "    layers: 'log'"
      ]
     },
     "execution_count": 16,
     "metadata": {},
     "output_type": "execute_result"
    }
   ],
   "source": [
    "adata"
   ]
  },
  {
   "cell_type": "code",
   "execution_count": 19,
   "id": "1c4a25eb-c452-40df-92a7-fd7900eec34e",
   "metadata": {
    "scrolled": true
   },
   "outputs": [
    {
     "name": "stdout",
     "output_type": "stream",
     "text": [
      "Renaming LSP11314 to MEL14\n",
      "Renaming LSP11330 to MEL16\n",
      "Renaming LSP11349 to MEL18\n",
      "Renaming LSP11354 to MEL19\n",
      "Renaming LSP11402 to MEL25\n",
      "Renaming LSP11410 to MEL26\n",
      "Renaming LSP11418 to MEL27\n",
      "Renaming LSP11522 to MEL39\n",
      "Renaming LSP11530 to MEL40\n",
      "Renaming LSP11546 to MEL42\n",
      "Renaming LSP11562 to MEL44\n",
      "Renaming LSP11586 to MEL47\n",
      "Renaming LSP11594 to MEL48\n",
      "Renaming LSP11602 to MEL49\n",
      "Renaming LSP11634 to MEL53\n",
      "Renaming LSP11706 to MEL60\n",
      "Renaming LSP11754 to MEL66\n",
      "Renaming LSP11770 to MEL68_A1\n",
      "Renaming LSP11778 to MEL68_B1\n",
      "Renaming LSP11786 to MEL69\n",
      "Renaming LSP11538 to MEL41\n",
      "Renaming LSP11373 to MEL21\n",
      "Renaming LSP11378 to MEL22\n",
      "Renaming LSP11450 to MEL31\n",
      "Renaming LSP11466 to MEL33\n",
      "Renaming LSP11474 to MEL34\n",
      "Renaming LSP11482 to MEL35\n",
      "Renaming LSP11490 to MEL36_A1\n",
      "Renaming LSP11498 to MEL36_A2\n",
      "Renaming LSP11618 to MEL51\n",
      "Renaming LSP11642 to MEL54\n",
      "Renaming LSP11658 to MEL55\n",
      "Renaming LSP11698 to MEL59\n",
      "Renaming LSP11738 to MEL64\n",
      "Renaming LSP12424 to MEL50\n",
      "Renaming LSP11458 to MEL32\n",
      "Renaming LSP17170 to MEL58\n"
     ]
    }
   ],
   "source": [
    "rename= {'MEL14': ['LSP11314'],\n",
    "'MEL16':['LSP11330'],\n",
    "'MEL18':['LSP11349'],\n",
    "'MEL19':['LSP11354'],\n",
    "'MEL25':['LSP11402'],\n",
    "'MEL26':['LSP11410'],\n",
    "'MEL27':['LSP11418'],\n",
    "'MEL39':['LSP11522'],\n",
    "'MEL40':['LSP11530'],\n",
    "'MEL42':['LSP11546'],\n",
    "'MEL44':['LSP11562'],\n",
    "'MEL47':['LSP11586'],\n",
    "'MEL48':['LSP11594'],\n",
    "'MEL49':['LSP11602'],\n",
    "'MEL53':['LSP11634'],\n",
    "'MEL60':['LSP11706'],\n",
    "'MEL66':['LSP11754'],\n",
    "'MEL68_A1':['LSP11770'],\n",
    "'MEL68_B1':['LSP11778'],\n",
    "'MEL69':['LSP11786'],\n",
    "'MEL41':['LSP11538'],\n",
    "'MEL21':['LSP11373'],\n",
    "'MEL22':['LSP11378'],\n",
    "'MEL31':['LSP11450'],\n",
    "'MEL33':['LSP11466'],\n",
    "'MEL34':['LSP11474'],\n",
    "'MEL35':['LSP11482'],\n",
    "'MEL36_A1':['LSP11490'],\n",
    "'MEL36_A2':['LSP11498'],\n",
    "'MEL51':['LSP11618'],\n",
    "'MEL54':['LSP11642'],\n",
    "'MEL55':['LSP11658'],\n",
    "'MEL59':['LSP11698'],\n",
    "'MEL64':['LSP11738'],\n",
    "'MEL50':['LSP12424'],\n",
    "'MEL32':['LSP11458'],\n",
    "'MEL58':['LSP17170']}\n",
    "adata = sm.hl.rename(adata, rename, from_column='imageid', to_column='MEL_id')"
   ]
  },
  {
   "cell_type": "code",
   "execution_count": 20,
   "id": "f8adc98d-1525-4fe1-a931-7fae8258e4e6",
   "metadata": {},
   "outputs": [
    {
     "data": {
      "text/plain": [
       "MEL_id\n",
       "MEL58       476343\n",
       "MEL55       130088\n",
       "MEL27       128060\n",
       "MEL18       112015\n",
       "MEL14       111831\n",
       "MEL16       111803\n",
       "MEL54       109981\n",
       "MEL25        97814\n",
       "MEL19        90526\n",
       "MEL59        75335\n",
       "MEL35        71076\n",
       "MEL51        66567\n",
       "MEL69        64208\n",
       "MEL68_B1     49640\n",
       "MEL53        49435\n",
       "MEL40        44742\n",
       "MEL34        41096\n",
       "MEL50        39888\n",
       "MEL26        34205\n",
       "MEL31        32251\n",
       "MEL60        28497\n",
       "MEL21        25268\n",
       "MEL44        23050\n",
       "MEL36_A1     16832\n",
       "MEL39        13695\n",
       "MEL66        11589\n",
       "MEL36_A2     10322\n",
       "Name: count, dtype: int64"
      ]
     },
     "execution_count": 20,
     "metadata": {},
     "output_type": "execute_result"
    }
   ],
   "source": [
    "adata.obs.MEL_id.value_counts()"
   ]
  },
  {
   "cell_type": "code",
   "execution_count": 30,
   "id": "555417c6-65c5-452b-8953-bffa1028600e",
   "metadata": {},
   "outputs": [
    {
     "data": {
      "text/plain": [
       "MART1pos\n",
       "Unknown            791424\n",
       "Keratinocytes      430662\n",
       "Myeloid lineage    306920\n",
       "MART1+             250869\n",
       "MART1-             200652\n",
       "Myofibroblasts      85630\n",
       "Name: count, dtype: int64"
      ]
     },
     "execution_count": 30,
     "metadata": {},
     "output_type": "execute_result"
    }
   ],
   "source": [
    "adata.obs.MART1pos.value_counts()"
   ]
  },
  {
   "cell_type": "code",
   "execution_count": 29,
   "id": "9594d7d8-29e5-4980-97e6-f72816269701",
   "metadata": {},
   "outputs": [
    {
     "name": "stdout",
     "output_type": "stream",
     "text": [
      "Renaming MART1+ to MART1+\n",
      "Renaming Melanocytes to MART1-\n"
     ]
    }
   ],
   "source": [
    "sm.hl.classify(adata, pos=['MART1'], neg=None, classify_label='MART1+', phenotype='phenotype', \n",
    "               subclassify_phenotype='Melanocytes', threshold=0.5, collapse_failed=False, label='MART1pos')\n",
    "rename= {'MART1+': ['MART1+'],\n",
    "        'MART1-':['Melanocytes']}\n",
    "adata = sm.hl.rename(adata, rename, from_column='MART1pos', to_column='MART1pos')"
   ]
  },
  {
   "cell_type": "code",
   "execution_count": 31,
   "id": "da9cd49f-8233-4ad6-a92c-a748674dcb31",
   "metadata": {},
   "outputs": [
    {
     "name": "stdout",
     "output_type": "stream",
     "text": [
      "Renaming ECAD+ to ECAD+\n",
      "Renaming Melanocytes to ECAD-\n"
     ]
    }
   ],
   "source": [
    "sm.hl.classify(adata, pos=['ECAD'], neg=None, classify_label='ECAD+', phenotype='phenotype', \n",
    "               subclassify_phenotype='Melanocytes', threshold=0.5, collapse_failed=False, label='ECADpos')\n",
    "rename= {'ECAD+': ['ECAD+'],\n",
    "        'ECAD-':['Melanocytes']}\n",
    "adata = sm.hl.rename(adata, rename, from_column='ECADpos', to_column='ECADpos')"
   ]
  },
  {
   "cell_type": "code",
   "execution_count": 32,
   "id": "156f18a6-644f-4e2c-8ec0-013caaa8849a",
   "metadata": {},
   "outputs": [],
   "source": [
    "group = ['branch1','branch3']\n",
    "branch=adata[(adata.obs['SOM_branch_ID'].isin(group))]\n",
    "\n",
    "group = ['Melanocytes']\n",
    "branch=branch[(branch.obs['phenotype'].isin(group))]"
   ]
  },
  {
   "cell_type": "code",
   "execution_count": 40,
   "id": "aa1a4ae4-eafe-4572-a7cc-89e9e62a227b",
   "metadata": {},
   "outputs": [
    {
     "data": {
      "text/plain": [
       "View of AnnData object with n_obs × n_vars = 37997 × 33\n",
       "    obs: 'X_centroid', 'Y_centroid', 'Area', 'MajorAxisLength', 'MinorAxisLength', 'Eccentricity', 'Solidity', 'Extent', 'Orientation', 'CellID', 'imageid', 'batch', 'ROI', 'LOSE', 'ROI_major_category', 'ROI_TV', 'phenotype', 'SOM_branch_ID', 'MEL_id', 'MART1pos', 'ECADpos'\n",
       "    uns: 'all_markers'\n",
       "    layers: 'log'"
      ]
     },
     "execution_count": 40,
     "metadata": {},
     "output_type": "execute_result"
    }
   ],
   "source": [
    "branch"
   ]
  },
  {
   "cell_type": "code",
   "execution_count": 41,
   "id": "6153242e-b137-4289-b06c-e7d5d5620dc8",
   "metadata": {},
   "outputs": [],
   "source": [
    "branch_data=branch.to_df()"
   ]
  },
  {
   "cell_type": "code",
   "execution_count": 43,
   "id": "2d947cd2-9832-4e58-b117-999e1a61086a",
   "metadata": {},
   "outputs": [],
   "source": [
    "branch_data['SOM_branch_ID']=branch.obs['SOM_branch_ID']\n",
    "branch_data['ROI']=branch.obs['ROI']"
   ]
  },
  {
   "cell_type": "code",
   "execution_count": 45,
   "id": "b137c37e-da9c-444f-babb-4d7d35f558c3",
   "metadata": {},
   "outputs": [],
   "source": [
    "branch_data.to_csv(r\"C:\\Users\\tav9\\Dropbox (HMS)\\test\\branch_data.csv\")"
   ]
  },
  {
   "cell_type": "code",
   "execution_count": 47,
   "id": "210bc6ae-ddd1-431f-83d3-d5375df0619f",
   "metadata": {},
   "outputs": [
    {
     "data": {
      "image/png": "[encoded data removed]",
      "text/plain": [
       "<Figure size 1000x200 with 1 Axes>"
      ]
     },
     "metadata": {},
     "output_type": "display_data"
    },
    {
     "name": "stdout",
     "output_type": "stream",
     "text": [
      "             ROI    MART1-    MART1+ branch_status\n",
      "0   LSP13914_005  0.941176  0.058824       branch1\n",
      "1   LSP13914_006  1.000000  0.000000       branch1\n",
      "2   LSP13914_007  1.000000  0.000000       branch1\n",
      "3   LSP13914_008  0.995851  0.004149       branch1\n",
      "4   LSP13914_009  1.000000  0.000000       branch1\n",
      "..           ...       ...       ...           ...\n",
      "71  LSP13987_017  0.729182  0.270818       branch1\n",
      "72  LSP13996_001  0.006079  0.993921       branch1\n",
      "73  LSP13996_002  0.005988  0.994012       branch1\n",
      "74  LSP13996_003  0.004451  0.995549       branch1\n",
      "75  LSP13996_005  0.027668  0.972332       branch1\n",
      "\n",
      "[76 rows x 4 columns]\n"
     ]
    }
   ],
   "source": [
    "y=['MART1-','MART1+']\n",
    "data=sm.pl.stacked_barplot(branch, y_axis='MART1pos', x_axis='ROI', \n",
    "                      subset_xaxis=None, subset_yaxis=y, order_xaxis=None, order_yaxis=y, \n",
    "                      method='percent', figsize=(10,2), return_data=True)\n",
    "data.to_csv(r\"C:\\Users\\tav9\\Dropbox (HMS)\\test\\branch.csv\")\n",
    "data=pd.read_csv(r\"C:\\Users\\tav9\\Dropbox (HMS)\\test\\branch.csv\")\n",
    "dataf=pd.DataFrame(data)\n",
    "\n",
    "branch1=['LSP13987_011','LSP13987_012','LSP13987_013','LSP13987_014','LSP13987_016','LSP13987_017','LSP13968_003','LSP13968_004','LSP13968_005','LSP13968_007','LSP13968_009','LSP13968_010','LSP13968_012','LSP13968_019','LSP13968_030','LSP13968_036','LSP13968_037','LSP13975_015','LSP13975_023','LSP13975_024','LSP13975_028','LSP13975_029','LSP13975_030','LSP13975_031','LSP13987_001','LSP13987_002','LSP13987_003','LSP13987_004','LSP13987_005','LSP13987_006','LSP13987_007','LSP13987_008','LSP13987_009','LSP13987_010','LSP13939_023','LSP13939_024','LSP13939_025','LSP13939_026','LSP13939_027','LSP13939_028','LSP13939_029','LSP13943_004','LSP13932_020','LSP13932_023','LSP13947_001','LSP13947_004','LSP13947_005','LSP13947_006','LSP13947_007','LSP13947_008','LSP13947_009','LSP13947_010','LSP13947_014','LSP13947_015','LSP13947_017','LSP13947_018','LSP13996_001','LSP13996_002','LSP13996_003','LSP13996_005','LSP13985_001','LSP13985_002','LSP13985_003','LSP13985_004','LSP13961_023','LSP13961_024','LSP13961_025','LSP13961_028','LSP13961_030','LSP13961_031','LSP13961_032','LSP13961_034','LSP13914_005','LSP13914_006','LSP13914_007','LSP13914_008','LSP13914_009','LSP13914_011','LSP13914_012','LSP13914_014','LSP13914_015','LSP13914_017','LSP13918_006','LSP13918_007','LSP13918_029','LSP13918_041','LSP13918_043','LSP13918_045']\n",
    "branch3=['LSP13987_015','LSP13968_014','LSP13968_016','LSP13968_020','LSP13968_025','LSP13968_028','LSP13968_039','LSP13975_025','LSP13975_032','LSP13939_020','LSP13939_021','LSP13939_022','LSP13939_031','LSP13932_008','LSP13932_009','LSP13932_017','LSP13932_018','LSP13932_019','LSP13932_022','LSP13932_026','LSP13932_027','LSP13932_028','LSP13961_014','LSP13961_016','LSP13961_017','LSP13918_005','LSP13918_039','LSP13918_040','LSP13918_044'],\n",
    "\n",
    "dataf['branch_status'] = dataf['ROI'].apply(lambda x: 'branch1' if x in branch1 else 'branch3')\n",
    "print(dataf)\n",
    "dataf.to_csv(r\"C:\\Users\\tav9\\Dropbox (HMS)\\test\\branchf.csv\")"
   ]
  },
  {
   "cell_type": "code",
   "execution_count": 48,
   "id": "6196a4be-8c23-4f26-b9f5-46c06296913c",
   "metadata": {},
   "outputs": [
    {
     "name": "stdout",
     "output_type": "stream",
     "text": [
      "p-value= 0.5063958295333202\n"
     ]
    },
    {
     "name": "stderr",
     "output_type": "stream",
     "text": [
      "C:\\Users\\tav9\\AppData\\Local\\Temp\\ipykernel_65280\\251162617.py:5: FutureWarning:\n",
      "\n",
      "\n",
      "\n",
      "Setting a gradient palette using color= is deprecated and will be removed in v0.14.0. Set `palette='dark:black'` for the same effect.\n",
      "\n",
      "\n",
      "C:\\Users\\tav9\\AppData\\Local\\Temp\\ipykernel_65280\\251162617.py:7: UserWarning:\n",
      "\n",
      "set_ticklabels() should only be used with a fixed number of ticks, i.e. after set_ticks() or using a FixedLocator.\n",
      "\n"
     ]
    },
    {
     "data": {
      "image/png": "[encoded data removed]",
      "text/plain": [
       "<Figure size 300x300 with 1 Axes>"
      ]
     },
     "metadata": {},
     "output_type": "display_data"
    }
   ],
   "source": [
    "plt.rcParams[\"figure.figsize\"] = (3,3)\n",
    "dataf=dataf.sort_values(by='branch_status', ascending=True)\n",
    "\n",
    "import scipy.stats as stats\n",
    "sns.swarmplot(data=dataf,x='branch_status',y='MART1-',color='black',s=3,hue='branch_status',hue_order=['branch1','branch3'])\n",
    "ax=sns.boxplot(data=dataf,x='branch_status',y='MART1-',width=.5, dodge=False,hue='branch_status',hue_order=['branch1','branch3'])\n",
    "ax.set_xticklabels(ax.get_xticklabels(),rotation=45)\n",
    "\n",
    "group1=dataf[dataf['branch_status']=='branch1']\n",
    "group2=dataf[dataf['branch_status']=='branch3']\n",
    "\n",
    "statistic, p_value = stats.mannwhitneyu(group1['MART1-'],group2['MART1-'])\n",
    "print(\"p-value=\",p_value)\n",
    "\n",
    "#plt.savefig(\"C:/Users/tav9/Dropbox (HMS)/test/test/MART1_branches_e41.pdf\")"
   ]
  },
  {
   "cell_type": "code",
   "execution_count": 57,
   "id": "edb5ec05-fcad-4d50-ae50-5ccda2b1973c",
   "metadata": {},
   "outputs": [
    {
     "data": {
      "image/png": "[encoded data removed]",
      "text/plain": [
       "<Figure size 1000x200 with 1 Axes>"
      ]
     },
     "metadata": {},
     "output_type": "display_data"
    },
    {
     "name": "stdout",
     "output_type": "stream",
     "text": [
      "             ROI     ECAD-     ECAD+ branch_status\n",
      "0   LSP13914_005  0.941176  0.058824       branch1\n",
      "1   LSP13914_006  0.935065  0.064935       branch1\n",
      "2   LSP13914_007  0.944039  0.055961       branch1\n",
      "3   LSP13914_008  1.000000  0.000000       branch1\n",
      "4   LSP13914_009  1.000000  0.000000       branch1\n",
      "..           ...       ...       ...           ...\n",
      "71  LSP13987_017  0.586531  0.413469       branch1\n",
      "72  LSP13996_001  0.056231  0.943769       branch1\n",
      "73  LSP13996_002  0.079840  0.920160       branch1\n",
      "74  LSP13996_003  0.059347  0.940653       branch1\n",
      "75  LSP13996_005  0.162055  0.837945       branch1\n",
      "\n",
      "[76 rows x 4 columns]\n"
     ]
    }
   ],
   "source": [
    "y=['ECAD-','ECAD+']\n",
    "data=sm.pl.stacked_barplot(branch, y_axis='ECADpos', x_axis='ROI', \n",
    "                      subset_xaxis=None, subset_yaxis=y, order_xaxis=None, order_yaxis=y, \n",
    "                      method='percent', figsize=(10,2), return_data=True)\n",
    "data.to_csv(r\"C:\\Users\\tav9\\Dropbox (HMS)\\test\\branch.csv\")\n",
    "data=pd.read_csv(r\"C:\\Users\\tav9\\Dropbox (HMS)\\test\\branch.csv\")\n",
    "dataf=pd.DataFrame(data)\n",
    "\n",
    "branch1=['LSP13987_011','LSP13987_012','LSP13987_013','LSP13987_014','LSP13987_016','LSP13987_017','LSP13968_003','LSP13968_004','LSP13968_005','LSP13968_007','LSP13968_009','LSP13968_010','LSP13968_012','LSP13968_019','LSP13968_030','LSP13968_036','LSP13968_037','LSP13975_015','LSP13975_023','LSP13975_024','LSP13975_028','LSP13975_029','LSP13975_030','LSP13975_031','LSP13987_001','LSP13987_002','LSP13987_003','LSP13987_004','LSP13987_005','LSP13987_006','LSP13987_007','LSP13987_008','LSP13987_009','LSP13987_010','LSP13939_023','LSP13939_024','LSP13939_025','LSP13939_026','LSP13939_027','LSP13939_028','LSP13939_029','LSP13943_004','LSP13932_020','LSP13932_023','LSP13947_001','LSP13947_004','LSP13947_005','LSP13947_006','LSP13947_007','LSP13947_008','LSP13947_009','LSP13947_010','LSP13947_014','LSP13947_015','LSP13947_017','LSP13947_018','LSP13996_001','LSP13996_002','LSP13996_003','LSP13996_005','LSP13985_001','LSP13985_002','LSP13985_003','LSP13985_004','LSP13961_023','LSP13961_024','LSP13961_025','LSP13961_028','LSP13961_030','LSP13961_031','LSP13961_032','LSP13961_034','LSP13914_005','LSP13914_006','LSP13914_007','LSP13914_008','LSP13914_009','LSP13914_011','LSP13914_012','LSP13914_014','LSP13914_015','LSP13914_017','LSP13918_006','LSP13918_007','LSP13918_029','LSP13918_041','LSP13918_043','LSP13918_045']\n",
    "branch3=['LSP13987_015','LSP13968_014','LSP13968_016','LSP13968_020','LSP13968_025','LSP13968_028','LSP13968_039','LSP13975_025','LSP13975_032','LSP13939_020','LSP13939_021','LSP13939_022','LSP13939_031','LSP13932_008','LSP13932_009','LSP13932_017','LSP13932_018','LSP13932_019','LSP13932_022','LSP13932_026','LSP13932_027','LSP13932_028','LSP13961_014','LSP13961_016','LSP13961_017','LSP13918_005','LSP13918_039','LSP13918_040','LSP13918_044'],\n",
    "\n",
    "dataf['branch_status'] = dataf['ROI'].apply(lambda x: 'branch1' if x in branch1 else 'branch3')\n",
    "print(dataf)\n",
    "dataf.to_csv(r\"C:\\Users\\tav9\\Dropbox (HMS)\\test\\branch.csv\")"
   ]
  },
  {
   "cell_type": "code",
   "execution_count": 65,
   "id": "c52ebde7-cd7c-43e1-babb-46fe671591e5",
   "metadata": {
    "scrolled": true
   },
   "outputs": [
    {
     "name": "stderr",
     "output_type": "stream",
     "text": [
      "C:\\Users\\tav9\\AppData\\Local\\Temp\\ipykernel_65280\\2745774876.py:5: FutureWarning:\n",
      "\n",
      "\n",
      "\n",
      "Setting a gradient palette using color= is deprecated and will be removed in v0.14.0. Set `palette='dark:black'` for the same effect.\n",
      "\n",
      "\n",
      "C:\\Users\\tav9\\AppData\\Local\\Temp\\ipykernel_65280\\2745774876.py:7: UserWarning:\n",
      "\n",
      "set_ticklabels() should only be used with a fixed number of ticks, i.e. after set_ticks() or using a FixedLocator.\n",
      "\n"
     ]
    },
    {
     "name": "stdout",
     "output_type": "stream",
     "text": [
      "p-value= 0.05049031362737411\n"
     ]
    },
    {
     "data": {
      "image/png": "[encoded data removed]",
      "text/plain": [
       "<Figure size 300x300 with 1 Axes>"
      ]
     },
     "metadata": {},
     "output_type": "display_data"
    }
   ],
   "source": [
    "plt.rcParams[\"figure.figsize\"] = (3,3)\n",
    "dataf=dataf.sort_values(by='branch_status', ascending=True)\n",
    "\n",
    "import scipy.stats as stats\n",
    "sns.swarmplot(data=dataf,x='branch_status',y='ECAD-',color='black',s=3,hue='branch_status',hue_order=['branch1','branch3'])\n",
    "ax=sns.boxplot(data=dataf,x='branch_status',y='ECAD-',width=.5, dodge=False,hue='branch_status',gap=.1,hue_order=['branch1','branch3'],palette=['red','dodgerblue'])\n",
    "ax.set_xticklabels(ax.get_xticklabels(),rotation=45)\n",
    "\n",
    "group1=dataf[dataf['branch_status']=='branch1']\n",
    "group2=dataf[dataf['branch_status']=='branch3']\n",
    "\n",
    "statistic, p_value = stats.mannwhitneyu(group1['ECAD-'],group2['ECAD-'])\n",
    "print(\"p-value=\",p_value)\n",
    "plt.savefig(\"C:/Users/tav9/Dropbox (HMS)/test/test/ECAD_SOM_branch.pdf\")"
   ]
  },
  {
   "cell_type": "code",
   "execution_count": 52,
   "id": "85949f30-d08c-4837-8bc0-5dcc5c7ddf2d",
   "metadata": {},
   "outputs": [],
   "source": [
    "LSP11418 = \"Y:/cycif-production/16-Pre-Cancer-Atlas-for-Melanoma/PCA_p16_e41_tumor_intrinsic/quantified/LSP11418/registration/LSP11418.ome.tif\"\n",
    "\n",
    "all_markers = ['DNA1','5hmC','Tet2','SOX10','DNA2','LaminA/C/B1','GATA3','PMEL','DNA3','SOX9','S100B','MART1','aSMA','DNA4','MITF','CD63','p21','panCK','DNA5','ECAD','pSTAT1','MCM2','S100A1','DNA6','Ki67','pSTAT3','PD1','pH3','DNA7','PRAME','IRF5','IRF1','B2M','DNA8','MX1','CD11c','NGFR','CK14','DNA9','LDH','pERK','BCL2','VIM','DNA10','CD3e','SOX2','MCL1','pS6','DNA11','CCND1','CCNA2','PDL1','PCNA','DNA12','p16/CDKN2A','SOX6','HIF1a','H3k27me3']\n",
    "\n",
    "sm.pl.gate_finder(image_path=LSP11418, adata=branch, marker_of_interest='MART1',\n",
    "    log=True, from_gate=3, to_gate=9, increment=0.1, markers=['SOX10', 'DNA1'],\n",
    "    channel_names=all_markers, point_size=15, subset='LSP11418')"
   ]
  },
  {
   "cell_type": "code",
   "execution_count": 54,
   "id": "ed0b68e6-f398-402f-ab53-8476769898dc",
   "metadata": {},
   "outputs": [
    {
     "name": "stdout",
     "output_type": "stream",
     "text": [
      "                                       marker_expression SOM_branch_ID  \\\n",
      "LSP11314--unmicst_cellRing_21780-0-0            0.333762       branch1   \n",
      "LSP11314--unmicst_cellRing_21845-0-0            0.677760       branch1   \n",
      "LSP11314--unmicst_cellRing_21896-0-0            0.600498       branch1   \n",
      "LSP11314--unmicst_cellRing_21909-0-0            0.610724       branch1   \n",
      "LSP11314--unmicst_cellRing_21966-0-0            0.683444       branch1   \n",
      "...                                                  ...           ...   \n",
      "LSP11418--unmicst_cellRing_106042-1-0           0.368576       branch1   \n",
      "LSP11418--unmicst_cellRing_106063-1-0           0.367263       branch1   \n",
      "LSP11418--unmicst_cellRing_106065-1-0           0.367311       branch1   \n",
      "LSP11418--unmicst_cellRing_106684-1-0           0.539203       branch1   \n",
      "LSP11418--unmicst_cellRing_106685-1-0           0.394522       branch1   \n",
      "\n",
      "                                           geomx_ID  \n",
      "LSP11314--unmicst_cellRing_21780-0-0   LSP13947_001  \n",
      "LSP11314--unmicst_cellRing_21845-0-0   LSP13947_001  \n",
      "LSP11314--unmicst_cellRing_21896-0-0   LSP13947_001  \n",
      "LSP11314--unmicst_cellRing_21909-0-0   LSP13947_001  \n",
      "LSP11314--unmicst_cellRing_21966-0-0   LSP13947_001  \n",
      "...                                             ...  \n",
      "LSP11418--unmicst_cellRing_106042-1-0  LSP13914_017  \n",
      "LSP11418--unmicst_cellRing_106063-1-0  LSP13914_017  \n",
      "LSP11418--unmicst_cellRing_106065-1-0  LSP13914_017  \n",
      "LSP11418--unmicst_cellRing_106684-1-0  LSP13914_017  \n",
      "LSP11418--unmicst_cellRing_106685-1-0  LSP13914_017  \n",
      "\n",
      "[37997 rows x 3 columns]\n"
     ]
    }
   ],
   "source": [
    "marker_expression = branch.X[:, branch.var.index == \"MART1\"].squeeze()\n",
    "geomx_data = branch.obs[\"ROI\"]\n",
    "branch_data = branch.obs[\"SOM_branch_ID\"]\n",
    "df = pd.DataFrame({\"marker_expression\": marker_expression, \"SOM_branch_ID\": branch_data, \"geomx_ID\": geomx_data})\n",
    "print(df)\n"
   ]
  },
  {
   "cell_type": "code",
   "execution_count": 55,
   "id": "90864daf-21c8-4e0f-95fd-d5acc915500c",
   "metadata": {},
   "outputs": [
    {
     "name": "stdout",
     "output_type": "stream",
     "text": [
      "        geomx_ID  marker_expression SOM_branch_ID\n",
      "0   LSP13914_005           0.405976       branch1\n",
      "36  LSP13947_014           0.758401       branch1\n",
      "74  LSP13996_003           0.745071       branch1\n",
      "38  LSP13947_018           0.711964       branch1\n",
      "40  LSP13968_003           0.650187       branch1\n",
      "..           ...                ...           ...\n",
      "52  LSP13968_031           0.669474       branch3\n",
      "20  LSP13925_021           0.578165       branch3\n",
      "50  LSP13968_027           0.554961       branch3\n",
      "13  LSP13918_031           0.533048       branch3\n",
      "19  LSP13925_013           0.568631       branch3\n",
      "\n",
      "[76 rows x 3 columns]\n"
     ]
    }
   ],
   "source": [
    "result = df.groupby(\"geomx_ID\").agg({\"marker_expression\": \"mean\"}).reset_index()\n",
    "\n",
    "branch1=['LSP13987_011','LSP13987_012','LSP13987_013','LSP13987_014','LSP13987_016','LSP13987_017','LSP13968_003','LSP13968_004','LSP13968_005','LSP13968_007','LSP13968_009','LSP13968_010','LSP13968_012','LSP13968_019','LSP13968_030','LSP13968_036','LSP13968_037','LSP13975_015','LSP13975_023','LSP13975_024','LSP13975_028','LSP13975_029','LSP13975_030','LSP13975_031','LSP13987_001','LSP13987_002','LSP13987_003','LSP13987_004','LSP13987_005','LSP13987_006','LSP13987_007','LSP13987_008','LSP13987_009','LSP13987_010','LSP13939_023','LSP13939_024','LSP13939_025','LSP13939_026','LSP13939_027','LSP13939_028','LSP13939_029','LSP13943_004','LSP13932_020','LSP13932_023','LSP13947_001','LSP13947_004','LSP13947_005','LSP13947_006','LSP13947_007','LSP13947_008','LSP13947_009','LSP13947_010','LSP13947_014','LSP13947_015','LSP13947_017','LSP13947_018','LSP13996_001','LSP13996_002','LSP13996_003','LSP13996_005','LSP13985_001','LSP13985_002','LSP13985_003','LSP13985_004','LSP13961_023','LSP13961_024','LSP13961_025','LSP13961_028','LSP13961_030','LSP13961_031','LSP13961_032','LSP13961_034','LSP13914_005','LSP13914_006','LSP13914_007','LSP13914_008','LSP13914_009','LSP13914_011','LSP13914_012','LSP13914_014','LSP13914_015','LSP13914_017','LSP13918_006','LSP13918_007','LSP13918_029','LSP13918_041','LSP13918_043','LSP13918_045']\n",
    "branch3=['LSP13968_001','LSP13968_002','LSP13968_015','LSP13968_017','LSP13968_027','LSP13968_031','LSP13968_033','LSP13968_034','LSP13968_038','LSP13975_003','LSP13975_008','LSP13975_009','LSP13975_018','LSP13975_020','LSP13975_021','LSP13975_022','LSP13925_005','LSP13925_006','LSP13925_007','LSP13925_008','LSP13925_013','LSP13925_020','LSP13925_021','LSP13925_023','LSP13925_024','LSP13925_025','LSP13925_027','LSP13925_029','LSP13925_030','LSP13939_003','LSP13939_004','LSP13939_005','LSP13939_006','LSP13939_007','LSP13939_008','LSP13939_011','LSP13939_012','LSP13939_014','LSP13939_015','LSP13939_016','LSP13939_018','LSP13943_002','LSP13943_003','LSP13943_005','LSP13943_006','LSP13943_007','LSP13943_008','LSP13943_009','LSP13943_011','LSP13943_012','LSP13943_013','LSP13943_014','LSP13943_015','LSP13943_016','LSP13932_003','LSP13932_004','LSP13932_006','LSP13996_012','LSP13996_013','LSP13996_014','LSP13996_016','LSP13996_017','LSP13996_019','LSP13996_021','LSP13985_008','LSP13985_009','LSP13985_010','LSP13985_012','LSP13985_013','LSP13985_014','LSP13961_004','LSP13961_005','LSP13961_006','LSP13961_007','LSP13961_008','LSP13961_009','LSP13961_010','LSP13961_011','LSP13961_035','LSP13918_028','LSP13918_030','LSP13918_031','LSP13918_035','LSP13918_042','LSP13954_001','LSP13954_002','LSP13954_003','LSP13954_004','LSP13954_005','LSP13954_006','LSP13954_007','LSP13954_008','LSP13954_010','LSP13954_011','LSP13954_012','LSP13954_013','LSP13954_014']\n",
    "\n",
    "result['SOM_branch_ID'] = result['geomx_ID'].apply(lambda x: 'branch1' if x in branch1 else 'branch3')\n",
    "result=result.sort_values(by='SOM_branch_ID', ascending=True)\n",
    "print(result)"
   ]
  },
  {
   "cell_type": "code",
   "execution_count": 56,
   "id": "d423d538-602d-4c95-a6ce-cd506f1404b1",
   "metadata": {},
   "outputs": [
    {
     "name": "stdout",
     "output_type": "stream",
     "text": [
      "p-value= 0.8861572166473146\n"
     ]
    },
    {
     "name": "stderr",
     "output_type": "stream",
     "text": [
      "C:\\Users\\tav9\\AppData\\Local\\Temp\\ipykernel_65280\\1356189112.py:4: UserWarning:\n",
      "\n",
      "set_ticklabels() should only be used with a fixed number of ticks, i.e. after set_ticks() or using a FixedLocator.\n",
      "\n"
     ]
    },
    {
     "data": {
      "image/png": "[encoded data removed]",
      "text/plain": [
       "<Figure size 300x300 with 1 Axes>"
      ]
     },
     "metadata": {},
     "output_type": "display_data"
    }
   ],
   "source": [
    "plt.rcParams[\"figure.figsize\"] = (3,3)\n",
    "sns.swarmplot(data=result,x='SOM_branch_ID',y='marker_expression',color='black',s=3)\n",
    "ax=sns.boxplot(data=result,x='SOM_branch_ID',y='marker_expression',width=.5)\n",
    "ax.set_xticklabels(ax.get_xticklabels(),rotation=45)\n",
    "\n",
    "group1=result[result['SOM_branch_ID']=='branch1']\n",
    "group2=result[result['SOM_branch_ID']=='branch3']\n",
    "\n",
    "statistic, p_value = stats.mannwhitneyu(group1['marker_expression'],group2['marker_expression'])\n",
    "print(\"p-value=\",p_value)\n"
   ]
  },
  {
   "cell_type": "code",
   "execution_count": null,
   "id": "38fefc9c-bf2f-45db-9306-2b7a2bc1f9fc",
   "metadata": {},
   "outputs": [],
   "source": []
  }
 ],
 "metadata": {
  "kernelspec": {
   "display_name": "Python 3 (ipykernel)",
   "language": "python",
   "name": "python3"
  },
  "language_info": {
   "codemirror_mode": {
    "name": "ipython",
    "version": 3
   },
   "file_extension": ".py",
   "mimetype": "text/x-python",
   "name": "python",
   "nbconvert_exporter": "python",
   "pygments_lexer": "ipython3",
   "version": "3.10.14"
  }
 },
 "nbformat": 4,
 "nbformat_minor": 5
}
